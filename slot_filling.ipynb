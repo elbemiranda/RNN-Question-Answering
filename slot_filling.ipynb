{
 "cells": [
  {
   "cell_type": "code",
   "execution_count": 1,
   "metadata": {
    "collapsed": true
   },
   "outputs": [],
   "source": [
    "import pandas as pd\n",
    "import numpy as np\n",
    "import json\n",
    "from SPARQLWrapper import SPARQLWrapper, JSON\n",
    "import requests \n",
    "import itertools"
   ]
  },
  {
   "cell_type": "code",
   "execution_count": 299,
   "metadata": {},
   "outputs": [],
   "source": [
    "with open('templates.json') as f:\n",
    "    templates = json.load(f)\n",
    "\n",
    "with open('data/lc-quad/test/input.txt') as f:\n",
    "    question = f.read().strip().split('\\n')\n",
    "    \n",
    "with open('data/lc-quad/test/input.pos') as f:\n",
    "    pos = f.read().strip().split('\\n')\n",
    "    \n",
    "with open('data/lc-quad/test/output.txt') as f:\n",
    "    output = f.read().strip().split('\\n')"
   ]
  },
  {
   "cell_type": "code",
   "execution_count": 205,
   "metadata": {},
   "outputs": [],
   "source": [
    "# Sorts based on descending order of values\n",
    "def sort_dict_by_values(dictionary):\n",
    "    keys = []\n",
    "    for key, value in sorted(dictionary.items(), key=lambda item: (item[1], item[0]), reverse=True):\n",
    "        keys.append(key)\n",
    "    return keys\n",
    "\n",
    "def get_earl_entities(query):\n",
    "    THRESHOLD = 0.001\n",
    "    response = requests.post('http://sda.tech/earl/api/processQuery', \n",
    "                             json={\"nlquery\": query, \"pagerankflag\": False})\n",
    "    \n",
    "    json_response = json.loads(response.text)\n",
    "    r_dict = {}\n",
    "    c_dict = {}\n",
    "    p_dict = {}\n",
    "    \n",
    "    reranked_lists = json_response['rerankedlists']\n",
    "    for key in reranked_lists.keys():\n",
    "        for result in reranked_lists[key]:\n",
    "            if result[0] < THRESHOLD:\n",
    "                continue                \n",
    "            \n",
    "            if result[1].startswith('http://dbpedia.org/resource/'):\n",
    "                r_dict[result[1]] = result[0]\n",
    "            elif result[1].split('/')[-1][0].isupper():\n",
    "                c_dict[result[1]] = result[0]\n",
    "            else:\n",
    "                p_dict[result[1]] = result[0]\n",
    "        \n",
    "    return {'r': sort_dict_by_values(r_dict), 'p': sort_dict_by_values(p_dict), 'c': sort_dict_by_values(c_dict)}"
   ]
  },
  {
   "cell_type": "code",
   "execution_count": 170,
   "metadata": {
    "collapsed": true
   },
   "outputs": [],
   "source": [
    "def make_sparql_query(query, return_var):\n",
    "    sparql = SPARQLWrapper(\"http://akswnc9.aksw.uni-leipzig.de/dbpedia/sparql\")\n",
    "    sparql.setQuery(query)\n",
    "    sparql.setReturnFormat(JSON)\n",
    "    results = sparql.query().convert()\n",
    "    \n",
    "    if return_var == 'boolean':\n",
    "        if 'boolean' in results:            \n",
    "            return results['boolean']\n",
    "        else:\n",
    "            return None\n",
    "    \n",
    "    output = []\n",
    "    for result in results[\"results\"][\"bindings\"]:\n",
    "        if return_var in result:\n",
    "            output.append(result[return_var]['value'])\n",
    "    return output"
   ]
  },
  {
   "cell_type": "code",
   "execution_count": 218,
   "metadata": {
    "collapsed": true
   },
   "outputs": [],
   "source": [
    "def get_answer(question, template):\n",
    "    output = []\n",
    "    sparql_query = ''\n",
    "    \n",
    "    entities = get_earl_entities(q)\n",
    "    slots = {}\n",
    "    for slot in template['slots']:\n",
    "        slots[slot] = entities[slot[0]]        \n",
    "    \n",
    "    # This means something probably went wrong and no predicates or resources were detected for the query\n",
    "    if len(slots['p']) == 0 or len(slots['r']) == 0:\n",
    "        return output, sparql_query\n",
    "    \n",
    "    ranges = []\n",
    "    slot_keys = list(slots.keys())\n",
    "    slot_len = len(slot_keys)\n",
    "    for slot in slot_keys:\n",
    "        ranges.append(range(len(slots[slot]))) \n",
    "        \n",
    "    for i in itertools.product(*ranges):\n",
    "        if slot_keys[0] == 'p' and slot_keys[1] == 'p2' and slots['p'][i[0]] == slots['p2'][i[1]]:\n",
    "            continue\n",
    "        if slot_keys[-2] == 'r' and slot_keys[-1] == 'r2' and slots['r'][i[-2]] == slots['r2'][i[-1]]:\n",
    "            continue\n",
    "            \n",
    "        sparql_query = template['sparql']                \n",
    "        for index in range(slot_len):\n",
    "            sparql_query = sparql_query.replace('<' + slot_keys[index] + '>', '<' + slots[slot_keys[index]][i[index]] + '>')\n",
    "        \n",
    "        print(sparql_query, \"\\n\\n\")\n",
    "        output = make_sparql_query(sparql_query, template['return'])        \n",
    "        if template['return'] == 'boolean':\n",
    "            if output != None:\n",
    "                break\n",
    "        elif len(output) > 0:\n",
    "            break\n",
    "    \n",
    "    return output, sparql_query"
   ]
  },
  {
   "cell_type": "code",
   "execution_count": 4,
   "metadata": {
    "collapsed": true
   },
   "outputs": [],
   "source": [
    "df = pd.DataFrame({'question': question, 'pos': pos, 'output': output})"
   ]
  },
  {
   "cell_type": "code",
   "execution_count": 287,
   "metadata": {},
   "outputs": [
    {
     "data": {
      "text/plain": [
       "array(['5', '16', '2', '6', '1', '151', '3', '15', '8', '105', '111',\n",
       "       '101', '106', '7', '102', '11', '108', '103'], dtype=object)"
      ]
     },
     "execution_count": 287,
     "metadata": {},
     "output_type": "execute_result"
    }
   ],
   "source": [
    "df['output'].unique()"
   ]
  },
  {
   "cell_type": "code",
   "execution_count": 300,
   "metadata": {},
   "outputs": [],
   "source": [
    "template = '108'\n",
    "q = df[df['output'] == template].iloc[0]['question']"
   ]
  },
  {
   "cell_type": "code",
   "execution_count": 301,
   "metadata": {},
   "outputs": [
    {
     "data": {
      "text/plain": [
       "'Count the number of movies whose distributor is RKO Pictures and director of photography is Gregg Toland?'"
      ]
     },
     "execution_count": 301,
     "metadata": {},
     "output_type": "execute_result"
    }
   ],
   "source": [
    "q"
   ]
  },
  {
   "cell_type": "code",
   "execution_count": 302,
   "metadata": {},
   "outputs": [
    {
     "name": "stdout",
     "output_type": "stream",
     "text": [
      "SELECT (COUNT(DISTINCT ?uri) as ?count) WHERE { ?uri <http://dbpedia.org/ontology/distributor> <http://dbpedia.org/resource/RKO_Pictures> . ?uri <http://dbpedia.org/ontology/number> <http://dbpedia.org/resource/Gregg_Toland> . } \n",
      "\n",
      "\n"
     ]
    },
    {
     "data": {
      "text/plain": [
       "(['0'],\n",
       " 'SELECT (COUNT(DISTINCT ?uri) as ?count) WHERE { ?uri <http://dbpedia.org/ontology/distributor> <http://dbpedia.org/resource/RKO_Pictures> . ?uri <http://dbpedia.org/ontology/number> <http://dbpedia.org/resource/Gregg_Toland> . }')"
      ]
     },
     "execution_count": 302,
     "metadata": {},
     "output_type": "execute_result"
    }
   ],
   "source": [
    "get_answer(q, templates[template])"
   ]
  },
  {
   "cell_type": "code",
   "execution_count": 217,
   "metadata": {},
   "outputs": [
    {
     "data": {
      "text/plain": [
       "{'c': ['http://dbpedia.org/ontology/River'],\n",
       " 'p': ['http://dbpedia.org/ontology/sourcePlace'],\n",
       " 'r': ['http://dbpedia.org/resource/North_Sea',\n",
       "  'http://dbpedia.org/resource/Gloucestershire',\n",
       "  'http://dbpedia.org/resource/River_mouth',\n",
       "  'http://dbpedia.org/resource/Mouthe',\n",
       "  'http://dbpedia.org/resource/A_Mouthful',\n",
       "  'http://dbpedia.org/resource/Sea*a',\n",
       "  'http://dbpedia.org/resource/Mouth',\n",
       "  'http://dbpedia.org/resource/Is_It_the_Sea%3F',\n",
       "  'http://dbpedia.org/resource/To_the_Sea',\n",
       "  'http://dbpedia.org/resource/Mouthing',\n",
       "  'http://dbpedia.org/resource/Sea']}"
      ]
     },
     "execution_count": 217,
     "metadata": {},
     "output_type": "execute_result"
    }
   ],
   "source": [
    "get_earl_entities(q)"
   ]
  },
  {
   "cell_type": "code",
   "execution_count": 115,
   "metadata": {},
   "outputs": [
    {
     "data": {
      "text/plain": [
       "'What sports are played at Vishwajyot High School?'"
      ]
     },
     "execution_count": 115,
     "metadata": {},
     "output_type": "execute_result"
    }
   ],
   "source": [
    "q"
   ]
  },
  {
   "cell_type": "code",
   "execution_count": null,
   "metadata": {
    "collapsed": true
   },
   "outputs": [],
   "source": []
  }
 ],
 "metadata": {
  "kernelspec": {
   "display_name": "Python 3",
   "language": "python",
   "name": "python3"
  },
  "language_info": {
   "codemirror_mode": {
    "name": "ipython",
    "version": 3
   },
   "file_extension": ".py",
   "mimetype": "text/x-python",
   "name": "python",
   "nbconvert_exporter": "python",
   "pygments_lexer": "ipython3",
   "version": "3.6.2"
  }
 },
 "nbformat": 4,
 "nbformat_minor": 2
}
