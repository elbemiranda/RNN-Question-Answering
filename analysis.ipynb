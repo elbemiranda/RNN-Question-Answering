{
 "cells": [
  {
   "cell_type": "code",
   "execution_count": 1,
   "metadata": {
    "collapsed": true
   },
   "outputs": [],
   "source": [
    "import pandas as pd\n",
    "import numpy as np"
   ]
  },
  {
   "cell_type": "code",
   "execution_count": 83,
   "metadata": {},
   "outputs": [],
   "source": [
    "def analyze(filename):\n",
    "    df = pd.read_csv(filename, header=-1)\n",
    "    df.columns = ['pred', 'label'] # Distribution of templates\n",
    "    \n",
    "    for id in df['label'].value_counts().index:\n",
    "        subset = df[df['label'] == id]\n",
    "        correct = (subset['pred'] == subset['label']).sum()\n",
    "        accuracy = correct / len(subset)\n",
    "\n",
    "        false_positive_subset = df[df['pred'] == id]\n",
    "        false_positives = (false_positive_subset['pred'] != false_positive_subset['label']).sum()\n",
    "        false_positive_rate = false_positives / max(len(false_positive_subset), 1)\n",
    "\n",
    "        print(\"=\" * 50)\n",
    "        print(\"Template #{}: count={}, correct={}, false_positives={}, accuracy={}, false_positive_rate={}\"\n",
    "              .format(id, len(subset), correct, false_positives, accuracy, false_positive_rate))\n",
    "        print(\"=\" * 50)"
   ]
  },
  {
   "cell_type": "code",
   "execution_count": 84,
   "metadata": {},
   "outputs": [
    {
     "name": "stdout",
     "output_type": "stream",
     "text": [
      "==================================================\n",
      "Template #2: count=151, correct=119, false_positives=57, accuracy=0.7880794701986755, false_positive_rate=0.32386363636363635\n",
      "==================================================\n",
      "==================================================\n",
      "Template #16: count=114, correct=95, false_positives=42, accuracy=0.8333333333333334, false_positive_rate=0.30656934306569344\n",
      "==================================================\n",
      "==================================================\n",
      "Template #305: count=102, correct=66, false_positives=96, accuracy=0.6470588235294118, false_positive_rate=0.5925925925925926\n",
      "==================================================\n",
      "==================================================\n",
      "Template #308: count=67, correct=47, false_positives=11, accuracy=0.7014925373134329, false_positive_rate=0.1896551724137931\n",
      "==================================================\n",
      "==================================================\n",
      "Template #301: count=60, correct=29, false_positives=36, accuracy=0.48333333333333334, false_positive_rate=0.5538461538461539\n",
      "==================================================\n",
      "==================================================\n",
      "Template #5: count=55, correct=4, false_positives=6, accuracy=0.07272727272727272, false_positive_rate=0.6\n",
      "==================================================\n",
      "==================================================\n",
      "Template #3: count=54, correct=30, false_positives=31, accuracy=0.5555555555555556, false_positive_rate=0.5081967213114754\n",
      "==================================================\n",
      "==================================================\n",
      "Template #15: count=47, correct=18, false_positives=12, accuracy=0.3829787234042553, false_positive_rate=0.4\n",
      "==================================================\n",
      "==================================================\n",
      "Template #152: count=43, correct=30, false_positives=27, accuracy=0.6976744186046512, false_positive_rate=0.47368421052631576\n",
      "==================================================\n",
      "==================================================\n",
      "Template #151: count=40, correct=16, false_positives=13, accuracy=0.4, false_positive_rate=0.4482758620689655\n",
      "==================================================\n",
      "==================================================\n",
      "Template #306: count=36, correct=14, false_positives=10, accuracy=0.3888888888888889, false_positive_rate=0.4166666666666667\n",
      "==================================================\n",
      "==================================================\n",
      "Template #105: count=33, correct=20, false_positives=34, accuracy=0.6060606060606061, false_positive_rate=0.6296296296296297\n",
      "==================================================\n",
      "==================================================\n",
      "Template #1: count=30, correct=3, false_positives=12, accuracy=0.1, false_positive_rate=0.8\n",
      "==================================================\n",
      "==================================================\n",
      "Template #6: count=17, correct=8, false_positives=10, accuracy=0.47058823529411764, false_positive_rate=0.5555555555555556\n",
      "==================================================\n",
      "==================================================\n",
      "Template #406: count=17, correct=7, false_positives=9, accuracy=0.4117647058823529, false_positive_rate=0.5625\n",
      "==================================================\n",
      "==================================================\n",
      "Template #307: count=16, correct=9, false_positives=6, accuracy=0.5625, false_positive_rate=0.4\n",
      "==================================================\n",
      "==================================================\n",
      "Template #303: count=15, correct=5, false_positives=10, accuracy=0.3333333333333333, false_positive_rate=0.6666666666666666\n",
      "==================================================\n",
      "==================================================\n",
      "Template #111: count=14, correct=5, false_positives=0, accuracy=0.35714285714285715, false_positive_rate=0.0\n",
      "==================================================\n",
      "==================================================\n",
      "Template #405: count=13, correct=1, false_positives=1, accuracy=0.07692307692307693, false_positive_rate=0.5\n",
      "==================================================\n",
      "==================================================\n",
      "Template #7: count=12, correct=7, false_positives=7, accuracy=0.5833333333333334, false_positive_rate=0.5\n",
      "==================================================\n",
      "==================================================\n",
      "Template #401: count=12, correct=6, false_positives=10, accuracy=0.5, false_positive_rate=0.625\n",
      "==================================================\n",
      "==================================================\n",
      "Template #102: count=10, correct=0, false_positives=nan, accuracy=0.0, false_positive_rate=nan\n",
      "==================================================\n",
      "==================================================\n",
      "Template #11: count=7, correct=0, false_positives=nan, accuracy=0.0, false_positive_rate=nan\n",
      "==================================================\n",
      "==================================================\n",
      "Template #311: count=6, correct=4, false_positives=13, accuracy=0.6666666666666666, false_positive_rate=0.7647058823529411\n",
      "==================================================\n",
      "==================================================\n",
      "Template #403: count=6, correct=0, false_positives=nan, accuracy=0.0, false_positive_rate=nan\n",
      "==================================================\n",
      "==================================================\n",
      "Template #101: count=5, correct=0, false_positives=2, accuracy=0.0, false_positive_rate=1.0\n",
      "==================================================\n",
      "==================================================\n",
      "Template #106: count=4, correct=0, false_positives=nan, accuracy=0.0, false_positive_rate=nan\n",
      "==================================================\n",
      "==================================================\n",
      "Template #103: count=4, correct=0, false_positives=nan, accuracy=0.0, false_positive_rate=nan\n",
      "==================================================\n",
      "==================================================\n",
      "Template #108: count=3, correct=1, false_positives=0, accuracy=0.3333333333333333, false_positive_rate=0.0\n",
      "==================================================\n",
      "==================================================\n",
      "Template #315: count=2, correct=0, false_positives=nan, accuracy=0.0, false_positive_rate=nan\n",
      "==================================================\n",
      "==================================================\n",
      "Template #8: count=2, correct=0, false_positives=1, accuracy=0.0, false_positive_rate=1.0\n",
      "==================================================\n",
      "==================================================\n",
      "Template #402: count=2, correct=0, false_positives=nan, accuracy=0.0, false_positive_rate=nan\n",
      "==================================================\n",
      "==================================================\n",
      "Template #601: count=1, correct=0, false_positives=nan, accuracy=0.0, false_positive_rate=nan\n",
      "==================================================\n"
     ]
    }
   ],
   "source": [
    "analyze(\"analysis/input_dim=300,mem_dim=150,epochs=15,current_epoch=12,test_acc=0.544.csv\")"
   ]
  },
  {
   "cell_type": "code",
   "execution_count": null,
   "metadata": {
    "collapsed": true
   },
   "outputs": [],
   "source": []
  }
 ],
 "metadata": {
  "kernelspec": {
   "display_name": "Python 3",
   "language": "python",
   "name": "python3"
  },
  "language_info": {
   "codemirror_mode": {
    "name": "ipython",
    "version": 3
   },
   "file_extension": ".py",
   "mimetype": "text/x-python",
   "name": "python",
   "nbconvert_exporter": "python",
   "pygments_lexer": "ipython3",
   "version": "3.6.2"
  }
 },
 "nbformat": 4,
 "nbformat_minor": 2
}
