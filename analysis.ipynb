{
 "cells": [
  {
   "cell_type": "code",
   "execution_count": 1,
   "metadata": {
    "collapsed": true
   },
   "outputs": [],
   "source": [
    "import pandas as pd\n",
    "import numpy as np\n",
    "import os\n",
    "import nltk\n",
    "pd.set_option('display.max_colwidth', 1000)"
   ]
  },
  {
   "cell_type": "code",
   "execution_count": 2,
   "metadata": {
    "collapsed": true
   },
   "outputs": [],
   "source": [
    "def analyze(filename):\n",
    "    df = pd.read_csv(filename, header=-1)\n",
    "    df.columns = ['pred', 'label'] # Distribution of templates\n",
    "    \n",
    "    for id in df['label'].value_counts().index:\n",
    "        subset = df[df['label'] == id]\n",
    "        correct = (subset['pred'] == subset['label']).sum()\n",
    "        accuracy = correct / len(subset)\n",
    "\n",
    "        false_positive_subset = df[df['pred'] == id]\n",
    "        false_positives = (false_positive_subset['pred'] != false_positive_subset['label']).sum()\n",
    "        false_positive_rate = false_positives / max(len(false_positive_subset), 1)\n",
    "\n",
    "        print(\"=\" * 50)\n",
    "        print(\"Template #{}: count={}, correct={}, false_positives={}, accuracy={}, false_positive_rate={}\"\n",
    "              .format(id, len(subset), correct, false_positives, accuracy, false_positive_rate))\n",
    "        print(\"=\" * 50)\n",
    "    return df"
   ]
  },
  {
   "cell_type": "code",
   "execution_count": 3,
   "metadata": {},
   "outputs": [
    {
     "name": "stdout",
     "output_type": "stream",
     "text": [
      "==================================================\n",
      "Template #1: count=261, correct=224, false_positives=23, accuracy=0.8582375478927203, false_positive_rate=0.0931174089068826\n",
      "==================================================\n",
      "==================================================\n",
      "Template #3: count=223, correct=199, false_positives=39, accuracy=0.8923766816143498, false_positive_rate=0.1638655462184874\n",
      "==================================================\n",
      "==================================================\n",
      "Template #16: count=104, correct=89, false_positives=9, accuracy=0.8557692307692307, false_positive_rate=0.09183673469387756\n",
      "==================================================\n",
      "==================================================\n",
      "Template #8: count=79, correct=72, false_positives=9, accuracy=0.9113924050632911, false_positive_rate=0.1111111111111111\n",
      "==================================================\n",
      "==================================================\n",
      "Template #151: count=73, correct=71, false_positives=1, accuracy=0.9726027397260274, false_positive_rate=0.013888888888888888\n",
      "==================================================\n",
      "==================================================\n",
      "Template #105: count=70, correct=58, false_positives=10, accuracy=0.8285714285714286, false_positive_rate=0.14705882352941177\n",
      "==================================================\n",
      "==================================================\n",
      "Template #6: count=51, correct=35, false_positives=15, accuracy=0.6862745098039216, false_positive_rate=0.3\n",
      "==================================================\n",
      "==================================================\n",
      "Template #15: count=40, correct=29, false_positives=9, accuracy=0.725, false_positive_rate=0.23684210526315788\n",
      "==================================================\n",
      "==================================================\n",
      "Template #7: count=26, correct=24, false_positives=10, accuracy=0.9230769230769231, false_positive_rate=0.29411764705882354\n",
      "==================================================\n",
      "==================================================\n",
      "Template #101: count=22, correct=18, false_positives=10, accuracy=0.8181818181818182, false_positive_rate=0.35714285714285715\n",
      "==================================================\n",
      "==================================================\n",
      "Template #111: count=19, correct=18, false_positives=1, accuracy=0.9473684210526315, false_positive_rate=0.05263157894736842\n",
      "==================================================\n",
      "==================================================\n",
      "Template #11: count=14, correct=12, false_positives=3, accuracy=0.8571428571428571, false_positive_rate=0.2\n",
      "==================================================\n",
      "==================================================\n",
      "Template #102: count=9, correct=4, false_positives=0, accuracy=0.4444444444444444, false_positive_rate=0.0\n",
      "==================================================\n",
      "==================================================\n",
      "Template #103: count=5, correct=1, false_positives=3, accuracy=0.2, false_positive_rate=0.75\n",
      "==================================================\n",
      "==================================================\n",
      "Template #108: count=4, correct=4, false_positives=0, accuracy=1.0, false_positive_rate=0.0\n",
      "==================================================\n"
     ]
    }
   ],
   "source": [
    "df = analyze(\"analysis/tmp7/expname=added embedding learning rate for toks embedding,input_dim=386,mem_dim=150,epochs=15,current_epoch=11,test_acc=0.858,loss=0.6856640524906495.csv\")"
   ]
  },
  {
   "cell_type": "code",
   "execution_count": 10,
   "metadata": {},
   "outputs": [
    {
     "data": {
      "text/plain": [
       "1      8\n",
       "3      5\n",
       "105    2\n",
       "Name: label, dtype: int64"
      ]
     },
     "execution_count": 10,
     "metadata": {},
     "output_type": "execute_result"
    }
   ],
   "source": [
    "template = 6\n",
    "df[ (df['pred'] == template) & (df['label'] != template) ]['label'].value_counts()"
   ]
  },
  {
   "cell_type": "code",
   "execution_count": 39,
   "metadata": {},
   "outputs": [],
   "source": [
    "X = []\n",
    "y = []\n",
    "with open('data/lc-quad/train/input.pos', 'r') as myfile:\n",
    "    X += myfile.read().split(\"\\n\")[:-1]\n",
    "\n",
    "with open('data/lc-quad/test/input.pos', 'r') as myfile:\n",
    "    X += myfile.read().split(\"\\n\")[:-1]    \n",
    "    \n",
    "with open('data/lc-quad/train/output.txt', 'r') as myfile:\n",
    "    y += myfile.read().split(\"\\n\")[:-1]\n",
    "\n",
    "with open('data/lc-quad/test/output.txt', 'r') as myfile:\n",
    "    y += myfile.read().split(\"\\n\")[:-1]    "
   ]
  },
  {
   "cell_type": "code",
   "execution_count": 40,
   "metadata": {},
   "outputs": [],
   "source": [
    "df = pd.concat([pd.Series(x) for x in [X, y]], axis=1)\n",
    "df.columns = ['X', 'y']"
   ]
  },
  {
   "cell_type": "code",
   "execution_count": 41,
   "metadata": {},
   "outputs": [
    {
     "data": {
      "text/plain": [
       "FreqDist({\"''\": 3,\n",
       "          ',': 56,\n",
       "          '-LRB-': 50,\n",
       "          '-RRB-': 50,\n",
       "          '.': 1197,\n",
       "          ':': 7,\n",
       "          'CC': 27,\n",
       "          'CD': 72,\n",
       "          'DT': 949,\n",
       "          'FW': 56,\n",
       "          'IN': 1058,\n",
       "          'JJ': 642,\n",
       "          'JJR': 6,\n",
       "          'JJS': 13,\n",
       "          'LS': 6,\n",
       "          'MD': 2,\n",
       "          'NN': 3406,\n",
       "          'NNP': 72,\n",
       "          'NNPS': 2,\n",
       "          'NNS': 649,\n",
       "          'PDT': 11,\n",
       "          'POS': 57,\n",
       "          'PRP': 23,\n",
       "          'PRP$': 24,\n",
       "          'RB': 31,\n",
       "          'RP': 1,\n",
       "          'TO': 93,\n",
       "          'VB': 124,\n",
       "          'VBD': 240,\n",
       "          'VBG': 34,\n",
       "          'VBN': 290,\n",
       "          'VBP': 248,\n",
       "          'VBZ': 684,\n",
       "          'WDT': 372,\n",
       "          'WP': 566,\n",
       "          'WP$': 94,\n",
       "          'WRB': 100,\n",
       "          '``': 2})"
      ]
     },
     "execution_count": 41,
     "metadata": {},
     "output_type": "execute_result"
    }
   ],
   "source": [
    "words = \" \".join(df[df['y'] == '1']['X'].tolist()).split()\n",
    "nltk.FreqDist(words)"
   ]
  },
  {
   "cell_type": "code",
   "execution_count": 42,
   "metadata": {},
   "outputs": [
    {
     "data": {
      "text/plain": [
       "FreqDist({\"''\": 3,\n",
       "          ',': 114,\n",
       "          '-LRB-': 7,\n",
       "          '-RRB-': 7,\n",
       "          '.': 1158,\n",
       "          ':': 7,\n",
       "          'CC': 32,\n",
       "          'CD': 64,\n",
       "          'DT': 1757,\n",
       "          'EX': 16,\n",
       "          'FW': 95,\n",
       "          'IN': 1744,\n",
       "          'JJ': 645,\n",
       "          'JJR': 5,\n",
       "          'JJS': 12,\n",
       "          'LS': 6,\n",
       "          'MD': 34,\n",
       "          'NN': 3416,\n",
       "          'NNP': 34,\n",
       "          'NNS': 1239,\n",
       "          'PDT': 21,\n",
       "          'POS': 57,\n",
       "          'PRP': 46,\n",
       "          'PRP$': 32,\n",
       "          'RB': 51,\n",
       "          'RP': 3,\n",
       "          'SYM': 2,\n",
       "          'TO': 104,\n",
       "          'VB': 173,\n",
       "          'VBD': 426,\n",
       "          'VBG': 53,\n",
       "          'VBN': 581,\n",
       "          'VBP': 464,\n",
       "          'VBZ': 709,\n",
       "          'WDT': 571,\n",
       "          'WP': 645,\n",
       "          'WP$': 138,\n",
       "          'WRB': 205,\n",
       "          '``': 2})"
      ]
     },
     "execution_count": 42,
     "metadata": {},
     "output_type": "execute_result"
    }
   ],
   "source": [
    "words = \" \".join(df[df['y'] == '3']['X'].tolist()).split()\n",
    "nltk.FreqDist(words)"
   ]
  },
  {
   "cell_type": "code",
   "execution_count": null,
   "metadata": {
    "collapsed": true
   },
   "outputs": [],
   "source": []
  }
 ],
 "metadata": {
  "kernelspec": {
   "display_name": "Python 3",
   "language": "python",
   "name": "python3"
  },
  "language_info": {
   "codemirror_mode": {
    "name": "ipython",
    "version": 3
   },
   "file_extension": ".py",
   "mimetype": "text/x-python",
   "name": "python",
   "nbconvert_exporter": "python",
   "pygments_lexer": "ipython3",
   "version": "3.6.2"
  }
 },
 "nbformat": 4,
 "nbformat_minor": 2
}
