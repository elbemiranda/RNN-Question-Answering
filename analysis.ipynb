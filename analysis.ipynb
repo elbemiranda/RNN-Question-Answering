{
 "cells": [
  {
   "cell_type": "code",
   "execution_count": 1,
   "metadata": {
    "collapsed": true
   },
   "outputs": [],
   "source": [
    "import pandas as pd\n",
    "import numpy as np\n",
    "import os\n",
    "import nltk\n",
    "pd.set_option('display.max_colwidth', 1000)"
   ]
  },
  {
   "cell_type": "code",
   "execution_count": 2,
   "metadata": {
    "collapsed": true
   },
   "outputs": [],
   "source": [
    "def analyze(filename):\n",
    "    df = pd.read_csv(filename, header=-1)\n",
    "    df.columns = ['pred', 'label'] # Distribution of templates\n",
    "    \n",
    "    for id in df['label'].value_counts().index:\n",
    "        subset = df[df['label'] == id]\n",
    "        correct = (subset['pred'] == subset['label']).sum()\n",
    "        accuracy = correct / len(subset)\n",
    "\n",
    "        false_positive_subset = df[df['pred'] == id]\n",
    "        false_positives = (false_positive_subset['pred'] != false_positive_subset['label']).sum()\n",
    "        false_positive_rate = false_positives / max(len(false_positive_subset), 1)\n",
    "\n",
    "        print(\"=\" * 50)\n",
    "        print(\"Template #{}: count={}, correct={}, false_positives={}, accuracy={}, false_positive_rate={}\"\n",
    "              .format(id, len(subset), correct, false_positives, accuracy, false_positive_rate))\n",
    "        print(\"=\" * 50)\n",
    "    return df"
   ]
  },
  {
   "cell_type": "code",
   "execution_count": 3,
   "metadata": {},
   "outputs": [
    {
     "name": "stdout",
     "output_type": "stream",
     "text": [
      "==================================================\n",
      "Template #5: count=154, correct=122, false_positives=52, accuracy=0.7922077922077922, false_positive_rate=0.2988505747126437\n",
      "==================================================\n",
      "==================================================\n",
      "Template #2: count=149, correct=119, false_positives=22, accuracy=0.7986577181208053, false_positive_rate=0.15602836879432624\n",
      "==================================================\n",
      "==================================================\n",
      "Template #1: count=112, correct=72, false_positives=20, accuracy=0.6428571428571429, false_positive_rate=0.21739130434782608\n",
      "==================================================\n",
      "==================================================\n",
      "Template #16: count=104, correct=93, false_positives=13, accuracy=0.8942307692307693, false_positive_rate=0.12264150943396226\n",
      "==================================================\n",
      "==================================================\n",
      "Template #8: count=79, correct=75, false_positives=12, accuracy=0.9493670886075949, false_positive_rate=0.13793103448275862\n",
      "==================================================\n",
      "==================================================\n",
      "Template #151: count=73, correct=71, false_positives=2, accuracy=0.9726027397260274, false_positive_rate=0.0273972602739726\n",
      "==================================================\n",
      "==================================================\n",
      "Template #3: count=69, correct=50, false_positives=23, accuracy=0.7246376811594203, false_positive_rate=0.3150684931506849\n",
      "==================================================\n",
      "==================================================\n",
      "Template #6: count=51, correct=28, false_positives=14, accuracy=0.5490196078431373, false_positive_rate=0.3333333333333333\n",
      "==================================================\n",
      "==================================================\n",
      "Template #105: count=47, correct=42, false_positives=19, accuracy=0.8936170212765957, false_positive_rate=0.3114754098360656\n",
      "==================================================\n",
      "==================================================\n",
      "Template #15: count=40, correct=28, false_positives=9, accuracy=0.7, false_positive_rate=0.24324324324324326\n",
      "==================================================\n",
      "==================================================\n",
      "Template #7: count=26, correct=22, false_positives=12, accuracy=0.8461538461538461, false_positive_rate=0.35294117647058826\n",
      "==================================================\n",
      "==================================================\n",
      "Template #106: count=23, correct=13, false_positives=3, accuracy=0.5652173913043478, false_positive_rate=0.1875\n",
      "==================================================\n",
      "==================================================\n",
      "Template #101: count=22, correct=12, false_positives=2, accuracy=0.5454545454545454, false_positive_rate=0.14285714285714285\n",
      "==================================================\n",
      "==================================================\n",
      "Template #111: count=19, correct=15, false_positives=2, accuracy=0.7894736842105263, false_positive_rate=0.11764705882352941\n",
      "==================================================\n",
      "==================================================\n",
      "Template #11: count=14, correct=12, false_positives=4, accuracy=0.8571428571428571, false_positive_rate=0.25\n",
      "==================================================\n",
      "==================================================\n",
      "Template #102: count=9, correct=5, false_positives=0, accuracy=0.5555555555555556, false_positive_rate=0.0\n",
      "==================================================\n",
      "==================================================\n",
      "Template #103: count=5, correct=3, false_positives=4, accuracy=0.6, false_positive_rate=0.5714285714285714\n",
      "==================================================\n",
      "==================================================\n",
      "Template #108: count=4, correct=4, false_positives=0, accuracy=1.0, false_positive_rate=0.0\n",
      "==================================================\n"
     ]
    }
   ],
   "source": [
    "df = analyze(\"analysis/expname=reverting to old ways with lower learning rate,input_dim=444,mem_dim=150,lr=0.001,emblr=0.01,wd=0.0001,epochs=50,current_epoch=8,test_acc=0.786,loss=0.6967378057959431.csv\")"
   ]
  },
  {
   "cell_type": "code",
   "execution_count": 149,
   "metadata": {},
   "outputs": [
    {
     "data": {
      "text/plain": [
       "0.8835341365461847"
      ]
     },
     "execution_count": 149,
     "metadata": {},
     "output_type": "execute_result"
    }
   ],
   "source": [
    "(sum(df['pred'] == df['label']) + 45) / len(df)"
   ]
  },
  {
   "cell_type": "code",
   "execution_count": 142,
   "metadata": {},
   "outputs": [
    {
     "data": {
      "text/plain": [
       "Series([], Name: label, dtype: int64)"
      ]
     },
     "execution_count": 142,
     "metadata": {},
     "output_type": "execute_result"
    }
   ],
   "source": [
    "template = 102\n",
    "df[ (df['pred'] == template) & (df['label'] != template) ]['label'].value_counts()"
   ]
  },
  {
   "cell_type": "code",
   "execution_count": 4,
   "metadata": {},
   "outputs": [
    {
     "data": {
      "text/plain": [
       "2    12\n",
       "5    11\n",
       "6     8\n",
       "8     6\n",
       "7     2\n",
       "3     1\n",
       "Name: pred, dtype: int64"
      ]
     },
     "execution_count": 4,
     "metadata": {},
     "output_type": "execute_result"
    }
   ],
   "source": [
    "# Reverse\n",
    "template = 1\n",
    "df[ (df['label'] == template) & (df['pred'] != template) ]['pred'].value_counts()"
   ]
  },
  {
   "cell_type": "code",
   "execution_count": 23,
   "metadata": {
    "collapsed": true
   },
   "outputs": [],
   "source": [
    "df = pd.read_csv('data/lc-quad/dataset.csv')"
   ]
  },
  {
   "cell_type": "code",
   "execution_count": 12,
   "metadata": {},
   "outputs": [
    {
     "data": {
      "text/plain": [
       "5      622\n",
       "2      582\n",
       "16     415\n",
       "1      378\n",
       "3      307\n",
       "8      300\n",
       "151    291\n",
       "6      214\n",
       "105    211\n",
       "15     168\n",
       "101    119\n",
       "7      108\n",
       "11      80\n",
       "106     79\n",
       "111     56\n",
       "103     25\n",
       "102     14\n",
       "108     11\n",
       "         1\n",
       "dtype: int64"
      ]
     },
     "execution_count": 12,
     "metadata": {},
     "output_type": "execute_result"
    }
   ],
   "source": [
    "with open('data/lc-quad/train/output.txt') as f:\n",
    "    x = f.read().split('\\n')\n",
    "    \n",
    "s = pd.Series(x)\n",
    "s.value_counts()"
   ]
  }
 ],
 "metadata": {
  "kernelspec": {
   "display_name": "Python 3",
   "language": "python",
   "name": "python3"
  },
  "language_info": {
   "codemirror_mode": {
    "name": "ipython",
    "version": 3
   },
   "file_extension": ".py",
   "mimetype": "text/x-python",
   "name": "python",
   "nbconvert_exporter": "python",
   "pygments_lexer": "ipython3",
   "version": "3.6.2"
  }
 },
 "nbformat": 4,
 "nbformat_minor": 2
}
