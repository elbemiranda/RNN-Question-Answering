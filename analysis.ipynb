{
 "cells": [
  {
   "cell_type": "code",
   "execution_count": 28,
   "metadata": {
    "collapsed": true
   },
   "outputs": [],
   "source": [
    "import pandas as pd\n",
    "import numpy as np\n",
    "import os\n",
    "pd.set_option('display.max_colwidth', 1000)"
   ]
  },
  {
   "cell_type": "code",
   "execution_count": 2,
   "metadata": {
    "collapsed": true
   },
   "outputs": [],
   "source": [
    "def analyze(filename):\n",
    "    df = pd.read_csv(filename, header=-1)\n",
    "    df.columns = ['pred', 'label'] # Distribution of templates\n",
    "    \n",
    "    for id in df['label'].value_counts().index:\n",
    "        subset = df[df['label'] == id]\n",
    "        correct = (subset['pred'] == subset['label']).sum()\n",
    "        accuracy = correct / len(subset)\n",
    "\n",
    "        false_positive_subset = df[df['pred'] == id]\n",
    "        false_positives = (false_positive_subset['pred'] != false_positive_subset['label']).sum()\n",
    "        false_positive_rate = false_positives / max(len(false_positive_subset), 1)\n",
    "\n",
    "        print(\"=\" * 50)\n",
    "        print(\"Template #{}: count={}, correct={}, false_positives={}, accuracy={}, false_positive_rate={}\"\n",
    "              .format(id, len(subset), correct, false_positives, accuracy, false_positive_rate))\n",
    "        print(\"=\" * 50)\n",
    "    return df"
   ]
  },
  {
   "cell_type": "code",
   "execution_count": 23,
   "metadata": {},
   "outputs": [
    {
     "name": "stdout",
     "output_type": "stream",
     "text": [
      "==================================================\n",
      "Template #1: count=261, correct=205, false_positives=35, accuracy=0.7854406130268199, false_positive_rate=0.14583333333333334\n",
      "==================================================\n",
      "==================================================\n",
      "Template #5: count=205, correct=155, false_positives=68, accuracy=0.7560975609756098, false_positive_rate=0.30493273542600896\n",
      "==================================================\n",
      "==================================================\n",
      "Template #16: count=104, correct=85, false_positives=8, accuracy=0.8173076923076923, false_positive_rate=0.08602150537634409\n",
      "==================================================\n",
      "==================================================\n",
      "Template #8: count=79, correct=66, false_positives=11, accuracy=0.8354430379746836, false_positive_rate=0.14285714285714285\n",
      "==================================================\n",
      "==================================================\n",
      "Template #151: count=73, correct=70, false_positives=7, accuracy=0.958904109589041, false_positive_rate=0.09090909090909091\n",
      "==================================================\n",
      "==================================================\n",
      "Template #3: count=69, correct=30, false_positives=18, accuracy=0.43478260869565216, false_positive_rate=0.375\n",
      "==================================================\n",
      "==================================================\n",
      "Template #105: count=47, correct=37, false_positives=13, accuracy=0.7872340425531915, false_positive_rate=0.26\n",
      "==================================================\n",
      "==================================================\n",
      "Template #15: count=40, correct=25, false_positives=8, accuracy=0.625, false_positive_rate=0.24242424242424243\n",
      "==================================================\n",
      "==================================================\n",
      "Template #7: count=26, correct=24, false_positives=26, accuracy=0.9230769230769231, false_positive_rate=0.52\n",
      "==================================================\n",
      "==================================================\n",
      "Template #106: count=23, correct=8, false_positives=5, accuracy=0.34782608695652173, false_positive_rate=0.38461538461538464\n",
      "==================================================\n",
      "==================================================\n",
      "Template #101: count=22, correct=19, false_positives=10, accuracy=0.8636363636363636, false_positive_rate=0.3448275862068966\n",
      "==================================================\n",
      "==================================================\n",
      "Template #111: count=19, correct=15, false_positives=17, accuracy=0.7894736842105263, false_positive_rate=0.53125\n",
      "==================================================\n",
      "==================================================\n",
      "Template #11: count=14, correct=12, false_positives=16, accuracy=0.8571428571428571, false_positive_rate=0.5714285714285714\n",
      "==================================================\n",
      "==================================================\n",
      "Template #102: count=9, correct=0, false_positives=nan, accuracy=0.0, false_positive_rate=nan\n",
      "==================================================\n",
      "==================================================\n",
      "Template #103: count=5, correct=0, false_positives=1, accuracy=0.0, false_positive_rate=1.0\n",
      "==================================================\n",
      "==================================================\n",
      "Template #108: count=4, correct=3, false_positives=2, accuracy=0.75, false_positive_rate=0.4\n",
      "==================================================\n"
     ]
    }
   ],
   "source": [
    "df = analyze(\"analysis/input_dim=85,mem_dim=150,epochs=15,current_epoch=6,test_acc=0.754.csv\")"
   ]
  },
  {
   "cell_type": "code",
   "execution_count": 27,
   "metadata": {},
   "outputs": [
    {
     "data": {
      "text/plain": [
       "1      33\n",
       "3      24\n",
       "106     3\n",
       "16      2\n",
       "111     1\n",
       "105     1\n",
       "102     1\n",
       "101     1\n",
       "151     1\n",
       "8       1\n",
       "Name: label, dtype: int64"
      ]
     },
     "execution_count": 27,
     "metadata": {},
     "output_type": "execute_result"
    }
   ],
   "source": [
    "template = 5\n",
    "df[ (df['pred'] == template) & (df['label'] != template) ]['label'].value_counts()"
   ]
  },
  {
   "cell_type": "code",
   "execution_count": 16,
   "metadata": {
    "collapsed": true
   },
   "outputs": [],
   "source": [
    "df = pd.read_csv(\"analysis/pos * rels/input_dim=300,mem_dim=150,epochs=15,current_epoch=15,train_acc=0.90625.csv\", header=-1)"
   ]
  },
  {
   "cell_type": "code",
   "execution_count": 17,
   "metadata": {
    "collapsed": true
   },
   "outputs": [],
   "source": [
    "df.columns = ['pred', 'label'] # Distribution of templates"
   ]
  },
  {
   "cell_type": "code",
   "execution_count": 19,
   "metadata": {},
   "outputs": [
    {
     "data": {
      "text/plain": [
       "2      0.14925\n",
       "305    0.11550\n",
       "16     0.10225\n",
       "308    0.06675\n",
       "301    0.06225\n",
       "3      0.05200\n",
       "5      0.03950\n",
       "15     0.03775\n",
       "152    0.03625\n",
       "151    0.03500\n",
       "306    0.03475\n",
       "105    0.03450\n",
       "1      0.03225\n",
       "303    0.02500\n",
       "405    0.01925\n",
       "6      0.01925\n",
       "311    0.01750\n",
       "401    0.01625\n",
       "101    0.01550\n",
       "111    0.01550\n",
       "406    0.01325\n",
       "307    0.01325\n",
       "7      0.01250\n",
       "8      0.00775\n",
       "106    0.00450\n",
       "102    0.00400\n",
       "11     0.00325\n",
       "403    0.00275\n",
       "108    0.00275\n",
       "103    0.00250\n",
       "315    0.00200\n",
       "402    0.00175\n",
       "107    0.00125\n",
       "316    0.00125\n",
       "605    0.00050\n",
       "906    0.00025\n",
       "9      0.00025\n",
       "Name: label, dtype: float64"
      ]
     },
     "execution_count": 19,
     "metadata": {},
     "output_type": "execute_result"
    }
   ],
   "source": [
    "df['label'].value_counts(normalize=True)"
   ]
  },
  {
   "cell_type": "code",
   "execution_count": 4,
   "metadata": {
    "collapsed": true
   },
   "outputs": [],
   "source": [
    "df_train = pd.read_json(\"data/lc-quad/train-data.json\")\n",
    "df_test = pd.read_json(\"data/lc-quad/test-data.json\")\n",
    "df = pd.concat([df_train, df_test], ignore_index = True)"
   ]
  },
  {
   "cell_type": "code",
   "execution_count": 7,
   "metadata": {
    "collapsed": true
   },
   "outputs": [],
   "source": [
    "sum = 0\n",
    "index = 0\n",
    "columns = df['sparql_template_id'].value_counts(normalize=True)\n",
    "for percent in columns:\n",
    "    sum += percent\n",
    "    index += 1\n",
    "    if sum >= 0.8:\n",
    "        break\n",
    "        \n",
    "df2 = df[df['sparql_template_id'].isin(columns.index[:7].tolist())]"
   ]
  },
  {
   "cell_type": "code",
   "execution_count": 8,
   "metadata": {},
   "outputs": [
    {
     "data": {
      "text/plain": [
       "2      0.253302\n",
       "305    0.190992\n",
       "16     0.177108\n",
       "308    0.113105\n",
       "301    0.104639\n",
       "3      0.088723\n",
       "5      0.072130\n",
       "Name: sparql_template_id, dtype: float64"
      ]
     },
     "execution_count": 8,
     "metadata": {},
     "output_type": "execute_result"
    }
   ],
   "source": [
    "df2['sparql_template_id'].value_counts(normalize=True)"
   ]
  },
  {
   "cell_type": "code",
   "execution_count": 44,
   "metadata": {},
   "outputs": [
    {
     "data": {
      "text/plain": [
       "8                                                                 Starwood operates in which places?\n",
       "23                                          Which company owns the manufacturer of the Edsel Ranger?\n",
       "51                            In which teams did anyone who played as a defencemen, play previously?\n",
       "54                                     Who authored the works published in the Jump Square Magazine?\n",
       "101                                                    What awards have been given to Screenwriters?\n",
       "191                                                     Where do employees of Deroit Red Wings live?\n",
       "228                       For which other teams do members of tanzanian national football team play?\n",
       "275                                                  UEM group have made bridges crossing over what?\n",
       "277                                                                  Where do bachelor of arts live?\n",
       "337                     What does the famous relative of Levon Ashotovich Grigorian do for a living?\n",
       "343                                 Which country's engineered have studied at Aero Klub in Wroclaw?\n",
       "350                                          Bridge that starts at Seberang Perai crosses over what?\n",
       "398                                          Where did the relatives of Gustavo Rojas Pinilla study?\n",
       "409                                             Richard Gant did a guest appearance on which series?\n",
       "470                                            Over which rivers, does a cable stayed bridge exists?\n",
       "473                                                Who were some governmental heads in Nazi Germany?\n",
       "505                                 Where can I find things run by the maritime museum of San Diego?\n",
       "558                            Who all have appointed governess born in Magnolia Plantation gardens?\n",
       "560                                        Which range of mountains are there in canton of Fribourg?\n",
       "561                                          Which species' members are there in the animal kingdom?\n",
       "568                       Which stadium is owned by the team whose manager is Dimitris Terezopoulos?\n",
       "619                                     List some things that Swedish people have become famous for?\n",
       "636                                                 What are some districts in the Tendring borough?\n",
       "678                                                        What have some famous Christians died of?\n",
       "758                                 What are some developers which use Emacs Lisp in their projects?\n",
       "768                                               What awards have been given to some screenwriters?\n",
       "789                                                    What did the people buried in Toronto die of?\n",
       "821                             In which cities do some railways operated by Russian railways start?\n",
       "841                                                            List some teammates of Ndonga Mianga?\n",
       "919    Where did they debut their careers , those who have played for US men's national soccer team?\n",
       "Name: corrected_question, dtype: object"
      ]
     },
     "execution_count": 44,
     "metadata": {},
     "output_type": "execute_result"
    }
   ],
   "source": [
    "df2[df2['sparql_template_id'] == 5]['corrected_question'].head(n=30)"
   ]
  },
  {
   "cell_type": "code",
   "execution_count": 41,
   "metadata": {},
   "outputs": [
    {
     "data": {
      "text/plain": [
       "7                                      What layout can be found in cars similar to the Subaru Outback?\n",
       "14                                     List the things for which people of New Orleans are famous for?\n",
       "15                                            What sports are played in schools in the capital region?\n",
       "18                          which awards have been given to people who fought in the Battle of France?\n",
       "20                          Who built the stadium which was rented for the 2013 Copa Centroamericana ?\n",
       "31                                                 Which genre of books are published by Random House?\n",
       "35                                                     What are some Louisiana based models known for?\n",
       "40     What is the religion of the member of parliament who is a relative of Sarathchandra Rajakaruna?\n",
       "46                                   What are some other products of the banks which makes Postbanken?\n",
       "48                                                        Who produces the trains operated by the MTR?\n",
       "50                                                In which countries can i find some feminist writers?\n",
       "52                        What are the other band member of the Bands whose current members is Hynief?\n",
       "87                                      List some leaders of regions in the Indian Standard Time Zone?\n",
       "94                           What are some relatives of the people who fought in Operation Barbarossa?\n",
       "102                                               Which office's people have died on the US Route 165?\n",
       "103                                             In which races have Tillingdale's horses participated?\n",
       "114                                                         What are some cars similar to luxury cars?\n",
       "118                                    What genre of games are made by Blizzard Entertainment studios?\n",
       "124               What are some music artists whose bands have signed up with Entertainment One Music?\n",
       "130                                  Which religion is prevalent in the schools of the Ashanti region?\n",
       "144                              What is the layout of the cars similar to that of the Subaru Outback?\n",
       "149           List the destinations to which the airlines headquartered at the Gatwick Airport fly to?\n",
       "155                                  Which company which assembles its cars in Broadmeadows, Victoria?\n",
       "163                                 What is the genre of the Band whose home town is County Westmeath?\n",
       "164                                                    Which sports are played at institues in Taguig?\n",
       "171                                   What are the nicknames of the schools whose color is royal blue?\n",
       "172    To what political party do the politicians graduated from Somerville college, Oxford belong to?\n",
       "186                          Who was the narrator of the show who's music is composed by John Douglas?\n",
       "192                 What are some countries where companies headquartered in the Klang Valley operate?\n",
       "202                                           Martin AN/GSG-5 is a part of the building in which city?\n",
       "Name: corrected_question, dtype: object"
      ]
     },
     "execution_count": 41,
     "metadata": {},
     "output_type": "execute_result"
    }
   ],
   "source": [
    "df2[df2['sparql_template_id'] == 305]['corrected_question'].head(n=30)"
   ]
  },
  {
   "cell_type": "code",
   "execution_count": 38,
   "metadata": {},
   "outputs": [
    {
     "data": {
      "text/plain": [
       "7                           SELECT DISTINCT ?uri WHERE { ?x <http://dbpedia.org/property/related> <http://dbpedia.org/resource/Subaru_Outback> . ?x <http://dbpedia.org/ontology/layout> ?uri  . ?x <http://www.w3.org/1999/02/22-rdf-syntax-ns#type> <http://dbpedia.org/ontology/Automobile>}\n",
       "14                          SELECT DISTINCT ?uri WHERE { ?x <http://dbpedia.org/property/placeOfBirth> <http://dbpedia.org/resource/New_Orleans> . ?x <http://dbpedia.org/property/knownFor> ?uri  . ?x <http://www.w3.org/1999/02/22-rdf-syntax-ns#type> <http://dbpedia.org/ontology/Person>}\n",
       "15                                SELECT DISTINCT ?uri WHERE { ?x <http://dbpedia.org/property/region> <http://dbpedia.org/resource/Capital_region> . ?x <http://dbpedia.org/ontology/sport> ?uri  . ?x <http://www.w3.org/1999/02/22-rdf-syntax-ns#type> <http://dbpedia.org/ontology/School>}\n",
       "18                              SELECT DISTINCT ?uri WHERE { ?x <http://dbpedia.org/ontology/battle> <http://dbpedia.org/resource/Battle_of_France> . ?x <http://dbpedia.org/ontology/award> ?uri  . ?x <http://www.w3.org/1999/02/22-rdf-syntax-ns#type> <http://dbpedia.org/ontology/Person>}\n",
       "20                  SELECT DISTINCT ?uri WHERE { ?x <http://dbpedia.org/ontology/tenant> <http://dbpedia.org/resource/2013_Copa_Centroamericana> . ?x <http://dbpedia.org/ontology/builder> ?uri  . ?x <http://www.w3.org/1999/02/22-rdf-syntax-ns#type> <http://dbpedia.org/ontology/Stadium>}\n",
       "31                               SELECT DISTINCT ?uri WHERE { ?x <http://dbpedia.org/property/publisher> <http://dbpedia.org/resource/Random_House> . ?x <http://dbpedia.org/property/subject> ?uri  . ?x <http://www.w3.org/1999/02/22-rdf-syntax-ns#type> <http://dbpedia.org/ontology/Book>}\n",
       "35                             SELECT DISTINCT ?uri WHERE { ?x <http://dbpedia.org/property/placeOfBirth> <http://dbpedia.org/resource/Louisiana> . ?x <http://dbpedia.org/property/knownFor> ?uri  . ?x <http://www.w3.org/1999/02/22-rdf-syntax-ns#type> <http://dbpedia.org/ontology/Model>}\n",
       "40     SELECT DISTINCT ?uri WHERE { ?x <http://dbpedia.org/ontology/relation> <http://dbpedia.org/resource/Sarathchandra_Rajakaruna> . ?x <http://dbpedia.org/ontology/religion> ?uri  . ?x <http://www.w3.org/1999/02/22-rdf-syntax-ns#type> <http://dbpedia.org/ontology/MemberOfParliament>}\n",
       "46                                  SELECT DISTINCT ?uri WHERE { ?x <http://dbpedia.org/ontology/product> <http://dbpedia.org/resource/Postbanken> . ?x <http://dbpedia.org/property/products> ?uri  . ?x <http://www.w3.org/1999/02/22-rdf-syntax-ns#type> <http://dbpedia.org/ontology/Bank>}\n",
       "48                                   SELECT DISTINCT ?uri WHERE { ?x <http://dbpedia.org/ontology/operator> <http://dbpedia.org/resource/MTR> . ?x <http://dbpedia.org/ontology/manufacturer> ?uri  . ?x <http://www.w3.org/1999/02/22-rdf-syntax-ns#type> <http://dbpedia.org/ontology/Train>}\n",
       "50                              SELECT DISTINCT ?uri WHERE { ?x <http://dbpedia.org/ontology/movement> <http://dbpedia.org/resource/Feminism> . ?x <http://dbpedia.org/ontology/nationality> ?uri  . ?x <http://www.w3.org/1999/02/22-rdf-syntax-ns#type> <http://dbpedia.org/ontology/Writer>}\n",
       "52                             SELECT DISTINCT ?uri WHERE { ?x <http://dbpedia.org/property/currentMembers> <http://dbpedia.org/resource/Hynief> . ?x <http://dbpedia.org/ontology/bandMember> ?uri  . ?x <http://www.w3.org/1999/02/22-rdf-syntax-ns#type> <http://dbpedia.org/ontology/Band>}\n",
       "87                    SELECT DISTINCT ?uri WHERE { ?x <http://dbpedia.org/ontology/timeZone> <http://dbpedia.org/resource/Indian_Standard_Time> . ?x <http://dbpedia.org/ontology/leaderName> ?uri  . ?x <http://www.w3.org/1999/02/22-rdf-syntax-ns#type> <http://dbpedia.org/ontology/Place>}\n",
       "94                       SELECT DISTINCT ?uri WHERE { ?x <http://dbpedia.org/ontology/battle> <http://dbpedia.org/resource/Operation_Barbarossa> . ?x <http://dbpedia.org/ontology/relation> ?uri  . ?x <http://www.w3.org/1999/02/22-rdf-syntax-ns#type> <http://dbpedia.org/ontology/Person>}\n",
       "102                          SELECT DISTINCT ?uri WHERE { ?x <http://dbpedia.org/property/deathPlace> <http://dbpedia.org/resource/U.S._Route_165> . ?x <http://dbpedia.org/property/office> ?uri  . ?x <http://www.w3.org/1999/02/22-rdf-syntax-ns#type> <http://dbpedia.org/ontology/Person>}\n",
       "103                                     SELECT DISTINCT ?uri WHERE { ?x <http://dbpedia.org/property/owner> <http://dbpedia.org/resource/Tillingdale> . ?x <http://dbpedia.org/property/race> ?uri  . ?x <http://www.w3.org/1999/02/22-rdf-syntax-ns#type> <http://dbpedia.org/ontology/Horse>}\n",
       "114                          SELECT DISTINCT ?uri WHERE { ?x <http://dbpedia.org/property/class> <http://dbpedia.org/resource/Luxury_vehicle> . ?x <http://dbpedia.org/property/related> ?uri  . ?x <http://www.w3.org/1999/02/22-rdf-syntax-ns#type> <http://dbpedia.org/ontology/Automobile>}\n",
       "118                 SELECT DISTINCT ?uri WHERE { ?x <http://dbpedia.org/ontology/developer> <http://dbpedia.org/resource/Blizzard_Entertainment> . ?x <http://dbpedia.org/property/genre> ?uri  . ?x <http://www.w3.org/1999/02/22-rdf-syntax-ns#type> <http://dbpedia.org/ontology/VideoGame>}\n",
       "124                    SELECT DISTINCT ?uri WHERE { ?x <http://dbpedia.org/property/label> <http://dbpedia.org/resource/Entertainment_One_Music> . ?x <http://dbpedia.org/ontology/bandMember> ?uri  . ?x <http://www.w3.org/1999/02/22-rdf-syntax-ns#type> <http://dbpedia.org/ontology/Band>}\n",
       "130                        SELECT DISTINCT ?uri WHERE { ?x <http://dbpedia.org/property/region> <http://dbpedia.org/resource/Ashanti_Region> . ?x <http://dbpedia.org/property/denomination> ?uri  . ?x <http://www.w3.org/1999/02/22-rdf-syntax-ns#type> <http://dbpedia.org/ontology/School>}\n",
       "Name: sparql_query, dtype: object"
      ]
     },
     "execution_count": 38,
     "metadata": {},
     "output_type": "execute_result"
    }
   ],
   "source": [
    "df2[df2['sparql_template_id'] == 305]['sparql_query'].head(n=20)"
   ]
  },
  {
   "cell_type": "code",
   "execution_count": 39,
   "metadata": {},
   "outputs": [
    {
     "data": {
      "text/plain": [
       "8                                 SELECT DISTINCT ?uri WHERE { ?x <http://dbpedia.org/property/operator> <http://dbpedia.org/resource/Starwood_Hotels_and_Resorts_Worldwide> . ?x <http://dbpedia.org/property/address> ?uri  . }\n",
       "23                                                          SELECT DISTINCT ?uri WHERE { ?x <http://dbpedia.org/property/products> <http://dbpedia.org/resource/Edsel_Ranger> . ?x <http://dbpedia.org/property/parent> ?uri  . }\n",
       "51                                                        SELECT DISTINCT ?uri WHERE { ?x <http://dbpedia.org/property/position> <http://dbpedia.org/resource/Defenceman> . ?x <http://dbpedia.org/ontology/formerTeam> ?uri  . }\n",
       "54                                                           SELECT DISTINCT ?uri WHERE { ?x <http://dbpedia.org/property/magazine> <http://dbpedia.org/resource/Jump_Square> . ?x <http://dbpedia.org/property/author> ?uri  . }\n",
       "101                                                       SELECT DISTINCT ?uri WHERE { ?x <http://dbpedia.org/property/occupation> <http://dbpedia.org/resource/Screenwriter> . ?x <http://dbpedia.org/property/awards> ?uri  . }\n",
       "191                                                 SELECT DISTINCT ?uri WHERE { ?x <http://dbpedia.org/property/employer> <http://dbpedia.org/resource/Detroit_Red_Wings> . ?x <http://dbpedia.org/ontology/residence> ?uri  . }\n",
       "228                                    SELECT DISTINCT ?uri WHERE { ?x <http://dbpedia.org/property/nationalteam> <http://dbpedia.org/resource/Tanzania_national_football_team> . ?x <http://dbpedia.org/ontology/team> ?uri  . }\n",
       "275                                                           SELECT DISTINCT ?uri WHERE { ?x <http://dbpedia.org/property/designer> <http://dbpedia.org/resource/UEM_Group> . ?x <http://dbpedia.org/property/crosses> ?uri  . }\n",
       "277                                                 SELECT DISTINCT ?uri WHERE { ?x <http://dbpedia.org/property/almaMater> <http://dbpedia.org/resource/Bachelor_of_Arts> . ?x <http://dbpedia.org/ontology/residence> ?uri  . }\n",
       "337                                      SELECT DISTINCT ?uri WHERE { ?x <http://dbpedia.org/property/relatives> <http://dbpedia.org/resource/Levon_Ashotovich_Grigorian> . ?x <http://dbpedia.org/ontology/occupation> ?uri  . }\n",
       "343                                             SELECT DISTINCT ?uri WHERE { ?x <http://dbpedia.org/ontology/institution> <http://dbpedia.org/resource/AeroKlub_Wrocław> . ?x <http://dbpedia.org/property/nationality> ?uri  . }\n",
       "350                                                    SELECT DISTINCT ?uri WHERE { ?x <http://dbpedia.org/ontology/routeStart> <http://dbpedia.org/resource/Seberang_Perai> . ?x <http://dbpedia.org/property/crosses> ?uri  . }\n",
       "398                                             SELECT DISTINCT ?uri WHERE { ?x <http://dbpedia.org/ontology/relation> <http://dbpedia.org/resource/Gustavo_Rojas_Pinilla> . ?x <http://dbpedia.org/property/almaMater> ?uri  . }\n",
       "409                                                           SELECT DISTINCT ?uri WHERE { ?x <http://dbpedia.org/property/guests> <http://dbpedia.org/resource/Richard_Gant> . ?x <http://dbpedia.org/ontology/series> ?uri  . }\n",
       "470                                                   SELECT DISTINCT ?uri WHERE { ?x <http://dbpedia.org/property/design> <http://dbpedia.org/resource/Cable-stayed_bridge> . ?x <http://dbpedia.org/property/crosses> ?uri  . }\n",
       "473                                                     SELECT DISTINCT ?uri WHERE { ?x <http://dbpedia.org/ontology/jurisdiction> <http://dbpedia.org/resource/Nazi_Germany> . ?x <http://dbpedia.org/ontology/leader> ?uri  . }\n",
       "505                                  SELECT DISTINCT ?uri WHERE { ?x <http://dbpedia.org/property/governingBody> <http://dbpedia.org/resource/Maritime_Museum_of_San_Diego> . ?x <http://dbpedia.org/property/location> ?uri  . }\n",
       "558    SELECT DISTINCT ?uri WHERE { ?x <http://dbpedia.org/ontology/birthPlace> <http://dbpedia.org/resource/Magnolia_Plantation_and_Gardens_(Charleston,_South_Carolina)> . ?x <http://dbpedia.org/property/appointer> ?uri  . }\n",
       "560                                       SELECT DISTINCT ?uri WHERE { ?x <http://dbpedia.org/ontology/locatedInArea> <http://dbpedia.org/resource/Canton_of_Fribourg> . ?x <http://dbpedia.org/ontology/mountainRange> ?uri  . }\n",
       "561                                                               SELECT DISTINCT ?uri WHERE { ?x <http://dbpedia.org/ontology/kingdom> <http://dbpedia.org/resource/Animal> . ?x <http://dbpedia.org/ontology/species> ?uri  . }\n",
       "Name: sparql_query, dtype: object"
      ]
     },
     "execution_count": 39,
     "metadata": {},
     "output_type": "execute_result"
    }
   ],
   "source": [
    "df2[df2['sparql_template_id'] == 5]['sparql_query'].head(n=20)"
   ]
  },
  {
   "cell_type": "code",
   "execution_count": 31,
   "metadata": {},
   "outputs": [],
   "source": [
    "data_dir = os.path.join('./', 'data')\n",
    "lc_quad_dir = os.path.join(data_dir, 'lc-quad')\n",
    "df_train = pd.read_json(os.path.join(lc_quad_dir, \"train-data.json\"))\n",
    "df_test = pd.read_json(os.path.join(lc_quad_dir, \"test-data.json\"))\n",
    "df = pd.concat([df_train, df_test], ignore_index = True)"
   ]
  },
  {
   "cell_type": "code",
   "execution_count": 34,
   "metadata": {},
   "outputs": [
    {
     "data": {
      "text/plain": [
       "305    564\n",
       "3      262\n",
       "5      213\n",
       "306    175\n",
       "303    115\n",
       "6       94\n",
       "311     76\n",
       "11      20\n",
       "Name: sparql_template_id, dtype: int64"
      ]
     },
     "execution_count": 34,
     "metadata": {},
     "output_type": "execute_result"
    }
   ],
   "source": [
    "df[df['sparql_template_id'].isin([306, 6, 305, 5, 303, 3, 311, 11])]['sparql_template_id'].value_counts()"
   ]
  },
  {
   "cell_type": "code",
   "execution_count": null,
   "metadata": {
    "collapsed": true
   },
   "outputs": [],
   "source": []
  }
 ],
 "metadata": {
  "kernelspec": {
   "display_name": "Python 3",
   "language": "python",
   "name": "python3"
  },
  "language_info": {
   "codemirror_mode": {
    "name": "ipython",
    "version": 3
   },
   "file_extension": ".py",
   "mimetype": "text/x-python",
   "name": "python",
   "nbconvert_exporter": "python",
   "pygments_lexer": "ipython3",
   "version": "3.6.2"
  }
 },
 "nbformat": 4,
 "nbformat_minor": 2
}
