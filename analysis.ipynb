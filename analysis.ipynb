{
 "cells": [
  {
   "cell_type": "code",
   "execution_count": 51,
   "metadata": {
    "collapsed": true
   },
   "outputs": [],
   "source": [
    "import pandas as pd\n",
    "import numpy as np\n",
    "import os\n",
    "import nltk\n",
    "pd.set_option('display.max_colwidth', 1000)"
   ]
  },
  {
   "cell_type": "code",
   "execution_count": 2,
   "metadata": {
    "collapsed": true
   },
   "outputs": [],
   "source": [
    "def analyze(filename):\n",
    "    df = pd.read_csv(filename, header=-1)\n",
    "    df.columns = ['pred', 'label'] # Distribution of templates\n",
    "    \n",
    "    for id in df['label'].value_counts().index:\n",
    "        subset = df[df['label'] == id]\n",
    "        correct = (subset['pred'] == subset['label']).sum()\n",
    "        accuracy = correct / len(subset)\n",
    "\n",
    "        false_positive_subset = df[df['pred'] == id]\n",
    "        false_positives = (false_positive_subset['pred'] != false_positive_subset['label']).sum()\n",
    "        false_positive_rate = false_positives / max(len(false_positive_subset), 1)\n",
    "\n",
    "        print(\"=\" * 50)\n",
    "        print(\"Template #{}: count={}, correct={}, false_positives={}, accuracy={}, false_positive_rate={}\"\n",
    "              .format(id, len(subset), correct, false_positives, accuracy, false_positive_rate))\n",
    "        print(\"=\" * 50)\n",
    "    return df"
   ]
  },
  {
   "cell_type": "code",
   "execution_count": 56,
   "metadata": {},
   "outputs": [
    {
     "name": "stdout",
     "output_type": "stream",
     "text": [
      "==================================================\n",
      "Template #1: count=261, correct=189, false_positives=43, accuracy=0.7241379310344828, false_positive_rate=0.1853448275862069\n",
      "==================================================\n",
      "==================================================\n",
      "Template #3: count=223, correct=181, false_positives=126, accuracy=0.8116591928251121, false_positive_rate=0.41042345276872966\n",
      "==================================================\n",
      "==================================================\n",
      "Template #16: count=104, correct=77, false_positives=46, accuracy=0.7403846153846154, false_positive_rate=0.37398373983739835\n",
      "==================================================\n",
      "==================================================\n",
      "Template #8: count=79, correct=48, false_positives=12, accuracy=0.6075949367088608, false_positive_rate=0.2\n",
      "==================================================\n",
      "==================================================\n",
      "Template #151: count=73, correct=66, false_positives=12, accuracy=0.9041095890410958, false_positive_rate=0.15384615384615385\n",
      "==================================================\n",
      "==================================================\n",
      "Template #105: count=70, correct=59, false_positives=44, accuracy=0.8428571428571429, false_positive_rate=0.42718446601941745\n",
      "==================================================\n",
      "==================================================\n",
      "Template #6: count=51, correct=4, false_positives=5, accuracy=0.0784313725490196, false_positive_rate=0.5555555555555556\n",
      "==================================================\n",
      "==================================================\n",
      "Template #15: count=40, correct=22, false_positives=34, accuracy=0.55, false_positive_rate=0.6071428571428571\n",
      "==================================================\n",
      "==================================================\n",
      "Template #7: count=26, correct=2, false_positives=3, accuracy=0.07692307692307693, false_positive_rate=0.6\n",
      "==================================================\n",
      "==================================================\n",
      "Template #101: count=22, correct=10, false_positives=5, accuracy=0.45454545454545453, false_positive_rate=0.3333333333333333\n",
      "==================================================\n",
      "==================================================\n",
      "Template #111: count=19, correct=0, false_positives=2, accuracy=0.0, false_positive_rate=1.0\n",
      "==================================================\n",
      "==================================================\n",
      "Template #11: count=14, correct=0, false_positives=10, accuracy=0.0, false_positive_rate=1.0\n",
      "==================================================\n",
      "==================================================\n",
      "Template #102: count=9, correct=0, false_positives=nan, accuracy=0.0, false_positive_rate=nan\n",
      "==================================================\n",
      "==================================================\n",
      "Template #103: count=5, correct=0, false_positives=nan, accuracy=0.0, false_positive_rate=nan\n",
      "==================================================\n",
      "==================================================\n",
      "Template #108: count=4, correct=0, false_positives=nan, accuracy=0.0, false_positive_rate=nan\n",
      "==================================================\n"
     ]
    }
   ],
   "source": [
    "df = analyze(\"analysis/input_dim=85,mem_dim=150,epochs=15,current_epoch=1,test_acc=0.658.csv\")"
   ]
  },
  {
   "cell_type": "code",
   "execution_count": 57,
   "metadata": {},
   "outputs": [
    {
     "data": {
      "text/plain": [
       "1      48\n",
       "6      36\n",
       "11     11\n",
       "16      9\n",
       "105     6\n",
       "111     3\n",
       "102     3\n",
       "101     3\n",
       "151     3\n",
       "8       2\n",
       "103     1\n",
       "7       1\n",
       "Name: label, dtype: int64"
      ]
     },
     "execution_count": 57,
     "metadata": {},
     "output_type": "execute_result"
    }
   ],
   "source": [
    "template = 3\n",
    "df[ (df['pred'] == template) & (df['label'] != template) ]['label'].value_counts()"
   ]
  },
  {
   "cell_type": "code",
   "execution_count": 16,
   "metadata": {
    "collapsed": true
   },
   "outputs": [],
   "source": [
    "df = pd.read_csv(\"analysis/pos * rels/input_dim=300,mem_dim=150,epochs=15,current_epoch=15,train_acc=0.90625.csv\", header=-1)"
   ]
  },
  {
   "cell_type": "code",
   "execution_count": 17,
   "metadata": {
    "collapsed": true
   },
   "outputs": [],
   "source": [
    "df.columns = ['pred', 'label'] # Distribution of templates"
   ]
  },
  {
   "cell_type": "code",
   "execution_count": 19,
   "metadata": {},
   "outputs": [
    {
     "data": {
      "text/plain": [
       "2      0.14925\n",
       "305    0.11550\n",
       "16     0.10225\n",
       "308    0.06675\n",
       "301    0.06225\n",
       "3      0.05200\n",
       "5      0.03950\n",
       "15     0.03775\n",
       "152    0.03625\n",
       "151    0.03500\n",
       "306    0.03475\n",
       "105    0.03450\n",
       "1      0.03225\n",
       "303    0.02500\n",
       "405    0.01925\n",
       "6      0.01925\n",
       "311    0.01750\n",
       "401    0.01625\n",
       "101    0.01550\n",
       "111    0.01550\n",
       "406    0.01325\n",
       "307    0.01325\n",
       "7      0.01250\n",
       "8      0.00775\n",
       "106    0.00450\n",
       "102    0.00400\n",
       "11     0.00325\n",
       "403    0.00275\n",
       "108    0.00275\n",
       "103    0.00250\n",
       "315    0.00200\n",
       "402    0.00175\n",
       "107    0.00125\n",
       "316    0.00125\n",
       "605    0.00050\n",
       "906    0.00025\n",
       "9      0.00025\n",
       "Name: label, dtype: float64"
      ]
     },
     "execution_count": 19,
     "metadata": {},
     "output_type": "execute_result"
    }
   ],
   "source": [
    "df['label'].value_counts(normalize=True)"
   ]
  },
  {
   "cell_type": "code",
   "execution_count": 77,
   "metadata": {
    "collapsed": true
   },
   "outputs": [],
   "source": [
    "df_train = pd.read_json(\"data/lc-quad/train-data.json\")\n",
    "df_test = pd.read_json(\"data/lc-quad/test-data.json\")\n",
    "df = pd.concat([df_train, df_test], ignore_index = True)"
   ]
  },
  {
   "cell_type": "code",
   "execution_count": 7,
   "metadata": {
    "collapsed": true
   },
   "outputs": [],
   "source": [
    "sum = 0\n",
    "index = 0\n",
    "columns = df['sparql_template_id'].value_counts(normalize=True)\n",
    "for percent in columns:\n",
    "    sum += percent\n",
    "    index += 1\n",
    "    if sum >= 0.8:\n",
    "        break\n",
    "        \n",
    "df2 = df[df['sparql_template_id'].isin(columns.index[:7].tolist())]"
   ]
  },
  {
   "cell_type": "code",
   "execution_count": 8,
   "metadata": {},
   "outputs": [
    {
     "data": {
      "text/plain": [
       "2      0.253302\n",
       "305    0.190992\n",
       "16     0.177108\n",
       "308    0.113105\n",
       "301    0.104639\n",
       "3      0.088723\n",
       "5      0.072130\n",
       "Name: sparql_template_id, dtype: float64"
      ]
     },
     "execution_count": 8,
     "metadata": {},
     "output_type": "execute_result"
    }
   ],
   "source": [
    "df2['sparql_template_id'].value_counts(normalize=True)"
   ]
  },
  {
   "cell_type": "code",
   "execution_count": 44,
   "metadata": {},
   "outputs": [
    {
     "data": {
      "text/plain": [
       "8                                                                 Starwood operates in which places?\n",
       "23                                          Which company owns the manufacturer of the Edsel Ranger?\n",
       "51                            In which teams did anyone who played as a defencemen, play previously?\n",
       "54                                     Who authored the works published in the Jump Square Magazine?\n",
       "101                                                    What awards have been given to Screenwriters?\n",
       "191                                                     Where do employees of Deroit Red Wings live?\n",
       "228                       For which other teams do members of tanzanian national football team play?\n",
       "275                                                  UEM group have made bridges crossing over what?\n",
       "277                                                                  Where do bachelor of arts live?\n",
       "337                     What does the famous relative of Levon Ashotovich Grigorian do for a living?\n",
       "343                                 Which country's engineered have studied at Aero Klub in Wroclaw?\n",
       "350                                          Bridge that starts at Seberang Perai crosses over what?\n",
       "398                                          Where did the relatives of Gustavo Rojas Pinilla study?\n",
       "409                                             Richard Gant did a guest appearance on which series?\n",
       "470                                            Over which rivers, does a cable stayed bridge exists?\n",
       "473                                                Who were some governmental heads in Nazi Germany?\n",
       "505                                 Where can I find things run by the maritime museum of San Diego?\n",
       "558                            Who all have appointed governess born in Magnolia Plantation gardens?\n",
       "560                                        Which range of mountains are there in canton of Fribourg?\n",
       "561                                          Which species' members are there in the animal kingdom?\n",
       "568                       Which stadium is owned by the team whose manager is Dimitris Terezopoulos?\n",
       "619                                     List some things that Swedish people have become famous for?\n",
       "636                                                 What are some districts in the Tendring borough?\n",
       "678                                                        What have some famous Christians died of?\n",
       "758                                 What are some developers which use Emacs Lisp in their projects?\n",
       "768                                               What awards have been given to some screenwriters?\n",
       "789                                                    What did the people buried in Toronto die of?\n",
       "821                             In which cities do some railways operated by Russian railways start?\n",
       "841                                                            List some teammates of Ndonga Mianga?\n",
       "919    Where did they debut their careers , those who have played for US men's national soccer team?\n",
       "Name: corrected_question, dtype: object"
      ]
     },
     "execution_count": 44,
     "metadata": {},
     "output_type": "execute_result"
    }
   ],
   "source": [
    "df2[df2['sparql_template_id'] == 5]['corrected_question'].head(n=30)"
   ]
  },
  {
   "cell_type": "code",
   "execution_count": 41,
   "metadata": {},
   "outputs": [
    {
     "data": {
      "text/plain": [
       "7                                      What layout can be found in cars similar to the Subaru Outback?\n",
       "14                                     List the things for which people of New Orleans are famous for?\n",
       "15                                            What sports are played in schools in the capital region?\n",
       "18                          which awards have been given to people who fought in the Battle of France?\n",
       "20                          Who built the stadium which was rented for the 2013 Copa Centroamericana ?\n",
       "31                                                 Which genre of books are published by Random House?\n",
       "35                                                     What are some Louisiana based models known for?\n",
       "40     What is the religion of the member of parliament who is a relative of Sarathchandra Rajakaruna?\n",
       "46                                   What are some other products of the banks which makes Postbanken?\n",
       "48                                                        Who produces the trains operated by the MTR?\n",
       "50                                                In which countries can i find some feminist writers?\n",
       "52                        What are the other band member of the Bands whose current members is Hynief?\n",
       "87                                      List some leaders of regions in the Indian Standard Time Zone?\n",
       "94                           What are some relatives of the people who fought in Operation Barbarossa?\n",
       "102                                               Which office's people have died on the US Route 165?\n",
       "103                                             In which races have Tillingdale's horses participated?\n",
       "114                                                         What are some cars similar to luxury cars?\n",
       "118                                    What genre of games are made by Blizzard Entertainment studios?\n",
       "124               What are some music artists whose bands have signed up with Entertainment One Music?\n",
       "130                                  Which religion is prevalent in the schools of the Ashanti region?\n",
       "144                              What is the layout of the cars similar to that of the Subaru Outback?\n",
       "149           List the destinations to which the airlines headquartered at the Gatwick Airport fly to?\n",
       "155                                  Which company which assembles its cars in Broadmeadows, Victoria?\n",
       "163                                 What is the genre of the Band whose home town is County Westmeath?\n",
       "164                                                    Which sports are played at institues in Taguig?\n",
       "171                                   What are the nicknames of the schools whose color is royal blue?\n",
       "172    To what political party do the politicians graduated from Somerville college, Oxford belong to?\n",
       "186                          Who was the narrator of the show who's music is composed by John Douglas?\n",
       "192                 What are some countries where companies headquartered in the Klang Valley operate?\n",
       "202                                           Martin AN/GSG-5 is a part of the building in which city?\n",
       "Name: corrected_question, dtype: object"
      ]
     },
     "execution_count": 41,
     "metadata": {},
     "output_type": "execute_result"
    }
   ],
   "source": [
    "df2[df2['sparql_template_id'] == 305]['corrected_question'].head(n=30)"
   ]
  },
  {
   "cell_type": "code",
   "execution_count": 38,
   "metadata": {},
   "outputs": [
    {
     "data": {
      "text/plain": [
       "7                           SELECT DISTINCT ?uri WHERE { ?x <http://dbpedia.org/property/related> <http://dbpedia.org/resource/Subaru_Outback> . ?x <http://dbpedia.org/ontology/layout> ?uri  . ?x <http://www.w3.org/1999/02/22-rdf-syntax-ns#type> <http://dbpedia.org/ontology/Automobile>}\n",
       "14                          SELECT DISTINCT ?uri WHERE { ?x <http://dbpedia.org/property/placeOfBirth> <http://dbpedia.org/resource/New_Orleans> . ?x <http://dbpedia.org/property/knownFor> ?uri  . ?x <http://www.w3.org/1999/02/22-rdf-syntax-ns#type> <http://dbpedia.org/ontology/Person>}\n",
       "15                                SELECT DISTINCT ?uri WHERE { ?x <http://dbpedia.org/property/region> <http://dbpedia.org/resource/Capital_region> . ?x <http://dbpedia.org/ontology/sport> ?uri  . ?x <http://www.w3.org/1999/02/22-rdf-syntax-ns#type> <http://dbpedia.org/ontology/School>}\n",
       "18                              SELECT DISTINCT ?uri WHERE { ?x <http://dbpedia.org/ontology/battle> <http://dbpedia.org/resource/Battle_of_France> . ?x <http://dbpedia.org/ontology/award> ?uri  . ?x <http://www.w3.org/1999/02/22-rdf-syntax-ns#type> <http://dbpedia.org/ontology/Person>}\n",
       "20                  SELECT DISTINCT ?uri WHERE { ?x <http://dbpedia.org/ontology/tenant> <http://dbpedia.org/resource/2013_Copa_Centroamericana> . ?x <http://dbpedia.org/ontology/builder> ?uri  . ?x <http://www.w3.org/1999/02/22-rdf-syntax-ns#type> <http://dbpedia.org/ontology/Stadium>}\n",
       "31                               SELECT DISTINCT ?uri WHERE { ?x <http://dbpedia.org/property/publisher> <http://dbpedia.org/resource/Random_House> . ?x <http://dbpedia.org/property/subject> ?uri  . ?x <http://www.w3.org/1999/02/22-rdf-syntax-ns#type> <http://dbpedia.org/ontology/Book>}\n",
       "35                             SELECT DISTINCT ?uri WHERE { ?x <http://dbpedia.org/property/placeOfBirth> <http://dbpedia.org/resource/Louisiana> . ?x <http://dbpedia.org/property/knownFor> ?uri  . ?x <http://www.w3.org/1999/02/22-rdf-syntax-ns#type> <http://dbpedia.org/ontology/Model>}\n",
       "40     SELECT DISTINCT ?uri WHERE { ?x <http://dbpedia.org/ontology/relation> <http://dbpedia.org/resource/Sarathchandra_Rajakaruna> . ?x <http://dbpedia.org/ontology/religion> ?uri  . ?x <http://www.w3.org/1999/02/22-rdf-syntax-ns#type> <http://dbpedia.org/ontology/MemberOfParliament>}\n",
       "46                                  SELECT DISTINCT ?uri WHERE { ?x <http://dbpedia.org/ontology/product> <http://dbpedia.org/resource/Postbanken> . ?x <http://dbpedia.org/property/products> ?uri  . ?x <http://www.w3.org/1999/02/22-rdf-syntax-ns#type> <http://dbpedia.org/ontology/Bank>}\n",
       "48                                   SELECT DISTINCT ?uri WHERE { ?x <http://dbpedia.org/ontology/operator> <http://dbpedia.org/resource/MTR> . ?x <http://dbpedia.org/ontology/manufacturer> ?uri  . ?x <http://www.w3.org/1999/02/22-rdf-syntax-ns#type> <http://dbpedia.org/ontology/Train>}\n",
       "50                              SELECT DISTINCT ?uri WHERE { ?x <http://dbpedia.org/ontology/movement> <http://dbpedia.org/resource/Feminism> . ?x <http://dbpedia.org/ontology/nationality> ?uri  . ?x <http://www.w3.org/1999/02/22-rdf-syntax-ns#type> <http://dbpedia.org/ontology/Writer>}\n",
       "52                             SELECT DISTINCT ?uri WHERE { ?x <http://dbpedia.org/property/currentMembers> <http://dbpedia.org/resource/Hynief> . ?x <http://dbpedia.org/ontology/bandMember> ?uri  . ?x <http://www.w3.org/1999/02/22-rdf-syntax-ns#type> <http://dbpedia.org/ontology/Band>}\n",
       "87                    SELECT DISTINCT ?uri WHERE { ?x <http://dbpedia.org/ontology/timeZone> <http://dbpedia.org/resource/Indian_Standard_Time> . ?x <http://dbpedia.org/ontology/leaderName> ?uri  . ?x <http://www.w3.org/1999/02/22-rdf-syntax-ns#type> <http://dbpedia.org/ontology/Place>}\n",
       "94                       SELECT DISTINCT ?uri WHERE { ?x <http://dbpedia.org/ontology/battle> <http://dbpedia.org/resource/Operation_Barbarossa> . ?x <http://dbpedia.org/ontology/relation> ?uri  . ?x <http://www.w3.org/1999/02/22-rdf-syntax-ns#type> <http://dbpedia.org/ontology/Person>}\n",
       "102                          SELECT DISTINCT ?uri WHERE { ?x <http://dbpedia.org/property/deathPlace> <http://dbpedia.org/resource/U.S._Route_165> . ?x <http://dbpedia.org/property/office> ?uri  . ?x <http://www.w3.org/1999/02/22-rdf-syntax-ns#type> <http://dbpedia.org/ontology/Person>}\n",
       "103                                     SELECT DISTINCT ?uri WHERE { ?x <http://dbpedia.org/property/owner> <http://dbpedia.org/resource/Tillingdale> . ?x <http://dbpedia.org/property/race> ?uri  . ?x <http://www.w3.org/1999/02/22-rdf-syntax-ns#type> <http://dbpedia.org/ontology/Horse>}\n",
       "114                          SELECT DISTINCT ?uri WHERE { ?x <http://dbpedia.org/property/class> <http://dbpedia.org/resource/Luxury_vehicle> . ?x <http://dbpedia.org/property/related> ?uri  . ?x <http://www.w3.org/1999/02/22-rdf-syntax-ns#type> <http://dbpedia.org/ontology/Automobile>}\n",
       "118                 SELECT DISTINCT ?uri WHERE { ?x <http://dbpedia.org/ontology/developer> <http://dbpedia.org/resource/Blizzard_Entertainment> . ?x <http://dbpedia.org/property/genre> ?uri  . ?x <http://www.w3.org/1999/02/22-rdf-syntax-ns#type> <http://dbpedia.org/ontology/VideoGame>}\n",
       "124                    SELECT DISTINCT ?uri WHERE { ?x <http://dbpedia.org/property/label> <http://dbpedia.org/resource/Entertainment_One_Music> . ?x <http://dbpedia.org/ontology/bandMember> ?uri  . ?x <http://www.w3.org/1999/02/22-rdf-syntax-ns#type> <http://dbpedia.org/ontology/Band>}\n",
       "130                        SELECT DISTINCT ?uri WHERE { ?x <http://dbpedia.org/property/region> <http://dbpedia.org/resource/Ashanti_Region> . ?x <http://dbpedia.org/property/denomination> ?uri  . ?x <http://www.w3.org/1999/02/22-rdf-syntax-ns#type> <http://dbpedia.org/ontology/School>}\n",
       "Name: sparql_query, dtype: object"
      ]
     },
     "execution_count": 38,
     "metadata": {},
     "output_type": "execute_result"
    }
   ],
   "source": [
    "df2[df2['sparql_template_id'] == 305]['sparql_query'].head(n=20)"
   ]
  },
  {
   "cell_type": "code",
   "execution_count": 39,
   "metadata": {},
   "outputs": [
    {
     "data": {
      "text/plain": [
       "8                                 SELECT DISTINCT ?uri WHERE { ?x <http://dbpedia.org/property/operator> <http://dbpedia.org/resource/Starwood_Hotels_and_Resorts_Worldwide> . ?x <http://dbpedia.org/property/address> ?uri  . }\n",
       "23                                                          SELECT DISTINCT ?uri WHERE { ?x <http://dbpedia.org/property/products> <http://dbpedia.org/resource/Edsel_Ranger> . ?x <http://dbpedia.org/property/parent> ?uri  . }\n",
       "51                                                        SELECT DISTINCT ?uri WHERE { ?x <http://dbpedia.org/property/position> <http://dbpedia.org/resource/Defenceman> . ?x <http://dbpedia.org/ontology/formerTeam> ?uri  . }\n",
       "54                                                           SELECT DISTINCT ?uri WHERE { ?x <http://dbpedia.org/property/magazine> <http://dbpedia.org/resource/Jump_Square> . ?x <http://dbpedia.org/property/author> ?uri  . }\n",
       "101                                                       SELECT DISTINCT ?uri WHERE { ?x <http://dbpedia.org/property/occupation> <http://dbpedia.org/resource/Screenwriter> . ?x <http://dbpedia.org/property/awards> ?uri  . }\n",
       "191                                                 SELECT DISTINCT ?uri WHERE { ?x <http://dbpedia.org/property/employer> <http://dbpedia.org/resource/Detroit_Red_Wings> . ?x <http://dbpedia.org/ontology/residence> ?uri  . }\n",
       "228                                    SELECT DISTINCT ?uri WHERE { ?x <http://dbpedia.org/property/nationalteam> <http://dbpedia.org/resource/Tanzania_national_football_team> . ?x <http://dbpedia.org/ontology/team> ?uri  . }\n",
       "275                                                           SELECT DISTINCT ?uri WHERE { ?x <http://dbpedia.org/property/designer> <http://dbpedia.org/resource/UEM_Group> . ?x <http://dbpedia.org/property/crosses> ?uri  . }\n",
       "277                                                 SELECT DISTINCT ?uri WHERE { ?x <http://dbpedia.org/property/almaMater> <http://dbpedia.org/resource/Bachelor_of_Arts> . ?x <http://dbpedia.org/ontology/residence> ?uri  . }\n",
       "337                                      SELECT DISTINCT ?uri WHERE { ?x <http://dbpedia.org/property/relatives> <http://dbpedia.org/resource/Levon_Ashotovich_Grigorian> . ?x <http://dbpedia.org/ontology/occupation> ?uri  . }\n",
       "343                                             SELECT DISTINCT ?uri WHERE { ?x <http://dbpedia.org/ontology/institution> <http://dbpedia.org/resource/AeroKlub_Wrocław> . ?x <http://dbpedia.org/property/nationality> ?uri  . }\n",
       "350                                                    SELECT DISTINCT ?uri WHERE { ?x <http://dbpedia.org/ontology/routeStart> <http://dbpedia.org/resource/Seberang_Perai> . ?x <http://dbpedia.org/property/crosses> ?uri  . }\n",
       "398                                             SELECT DISTINCT ?uri WHERE { ?x <http://dbpedia.org/ontology/relation> <http://dbpedia.org/resource/Gustavo_Rojas_Pinilla> . ?x <http://dbpedia.org/property/almaMater> ?uri  . }\n",
       "409                                                           SELECT DISTINCT ?uri WHERE { ?x <http://dbpedia.org/property/guests> <http://dbpedia.org/resource/Richard_Gant> . ?x <http://dbpedia.org/ontology/series> ?uri  . }\n",
       "470                                                   SELECT DISTINCT ?uri WHERE { ?x <http://dbpedia.org/property/design> <http://dbpedia.org/resource/Cable-stayed_bridge> . ?x <http://dbpedia.org/property/crosses> ?uri  . }\n",
       "473                                                     SELECT DISTINCT ?uri WHERE { ?x <http://dbpedia.org/ontology/jurisdiction> <http://dbpedia.org/resource/Nazi_Germany> . ?x <http://dbpedia.org/ontology/leader> ?uri  . }\n",
       "505                                  SELECT DISTINCT ?uri WHERE { ?x <http://dbpedia.org/property/governingBody> <http://dbpedia.org/resource/Maritime_Museum_of_San_Diego> . ?x <http://dbpedia.org/property/location> ?uri  . }\n",
       "558    SELECT DISTINCT ?uri WHERE { ?x <http://dbpedia.org/ontology/birthPlace> <http://dbpedia.org/resource/Magnolia_Plantation_and_Gardens_(Charleston,_South_Carolina)> . ?x <http://dbpedia.org/property/appointer> ?uri  . }\n",
       "560                                       SELECT DISTINCT ?uri WHERE { ?x <http://dbpedia.org/ontology/locatedInArea> <http://dbpedia.org/resource/Canton_of_Fribourg> . ?x <http://dbpedia.org/ontology/mountainRange> ?uri  . }\n",
       "561                                                               SELECT DISTINCT ?uri WHERE { ?x <http://dbpedia.org/ontology/kingdom> <http://dbpedia.org/resource/Animal> . ?x <http://dbpedia.org/ontology/species> ?uri  . }\n",
       "Name: sparql_query, dtype: object"
      ]
     },
     "execution_count": 39,
     "metadata": {},
     "output_type": "execute_result"
    }
   ],
   "source": [
    "df2[df2['sparql_template_id'] == 5]['sparql_query'].head(n=20)"
   ]
  },
  {
   "cell_type": "code",
   "execution_count": 31,
   "metadata": {
    "collapsed": true
   },
   "outputs": [],
   "source": [
    "data_dir = os.path.join('./', 'data')\n",
    "lc_quad_dir = os.path.join(data_dir, 'lc-quad')\n",
    "df_train = pd.read_json(os.path.join(lc_quad_dir, \"train-data.json\"))\n",
    "df_test = pd.read_json(os.path.join(lc_quad_dir, \"test-data.json\"))\n",
    "df = pd.concat([df_train, df_test], ignore_index = True)"
   ]
  },
  {
   "cell_type": "code",
   "execution_count": 34,
   "metadata": {},
   "outputs": [
    {
     "data": {
      "text/plain": [
       "305    564\n",
       "3      262\n",
       "5      213\n",
       "306    175\n",
       "303    115\n",
       "6       94\n",
       "311     76\n",
       "11      20\n",
       "Name: sparql_template_id, dtype: int64"
      ]
     },
     "execution_count": 34,
     "metadata": {},
     "output_type": "execute_result"
    }
   ],
   "source": [
    "df[df['sparql_template_id'].isin([306, 6, 305, 5, 303, 3, 311, 11])]['sparql_template_id'].value_counts()"
   ]
  },
  {
   "cell_type": "code",
   "execution_count": 83,
   "metadata": {
    "collapsed": true
   },
   "outputs": [],
   "source": [
    "df['length'] = df.apply(lambda row : len(row['corrected_question'].split()), axis=1)"
   ]
  },
  {
   "cell_type": "code",
   "execution_count": 88,
   "metadata": {},
   "outputs": [
    {
     "data": {
      "text/plain": [
       "sparql_template_id\n",
       "1       8.345912\n",
       "2       8.433155\n",
       "3      11.893130\n",
       "5      10.431925\n",
       "6      10.808511\n",
       "7      10.435484\n",
       "8      12.606061\n",
       "9      13.000000\n",
       "11     14.900000\n",
       "15     12.823232\n",
       "16     15.258126\n",
       "101     8.164179\n",
       "102     8.730769\n",
       "103    12.428571\n",
       "105    11.707602\n",
       "106    13.590909\n",
       "107    11.600000\n",
       "108    15.285714\n",
       "111    16.342105\n",
       "151     8.344444\n",
       "152     8.765957\n",
       "301     8.912621\n",
       "303    14.495652\n",
       "305    11.553191\n",
       "306    11.645714\n",
       "307    11.637681\n",
       "308    14.766467\n",
       "311    15.644737\n",
       "315    14.600000\n",
       "316    14.000000\n",
       "401     8.883117\n",
       "402     8.555556\n",
       "403    12.941176\n",
       "405    12.388889\n",
       "406    12.885714\n",
       "601     7.000000\n",
       "605    10.500000\n",
       "906    14.000000\n",
       "Name: length, dtype: float64"
      ]
     },
     "execution_count": 88,
     "metadata": {},
     "output_type": "execute_result"
    }
   ],
   "source": [
    "df.groupby(['sparql_template_id'])['length'].mean()"
   ]
  },
  {
   "cell_type": "code",
   "execution_count": 32,
   "metadata": {},
   "outputs": [],
   "source": [
    "df = pd.read_csv('data/lc-quad/dataset.csv')"
   ]
  },
  {
   "cell_type": "code",
   "execution_count": 44,
   "metadata": {},
   "outputs": [
    {
     "data": {
      "text/plain": [
       "the                0.452830\n",
       "is                 0.371069\n",
       "which              0.314465\n",
       "of                 0.308176\n",
       "who                0.301887\n",
       "what               0.289308\n",
       "are                0.232704\n",
       "in                 0.176101\n",
       "some               0.138365\n",
       "was                0.119497\n",
       "whose              0.113208\n",
       "by                 0.088050\n",
       "to                 0.081761\n",
       "all                0.075472\n",
       "a                  0.069182\n",
       "have               0.069182\n",
       "football           0.056604\n",
       "name               0.056604\n",
       "under              0.056604\n",
       "as                 0.050314\n",
       "for                0.050314\n",
       "been               0.044025\n",
       "has                0.044025\n",
       "did                0.037736\n",
       "famous             0.037736\n",
       "people             0.037736\n",
       "team?              0.037736\n",
       "?                  0.037736\n",
       "city               0.031447\n",
       "rivers             0.031447\n",
       "                     ...   \n",
       "character's        0.006289\n",
       "cementary?         0.006289\n",
       "novel              0.006289\n",
       "spanish            0.006289\n",
       "shrine             0.006289\n",
       "duck               0.006289\n",
       "representatives    0.006289\n",
       "marlboro           0.006289\n",
       "twenty             0.006289\n",
       "minister?          0.006289\n",
       "franz              0.006289\n",
       "gough              0.006289\n",
       "life               0.006289\n",
       "italic             0.006289\n",
       "musical            0.006289\n",
       "herzogenaurach?    0.006289\n",
       "figure,            0.006289\n",
       "series?            0.006289\n",
       "academic           0.006289\n",
       "fc                 0.006289\n",
       "english            0.006289\n",
       "comic              0.006289\n",
       "schools            0.006289\n",
       "born               0.006289\n",
       "navy?              0.006289\n",
       "students           0.006289\n",
       "fd                 0.006289\n",
       "sepulchre          0.006289\n",
       "audi               0.006289\n",
       "image              0.006289\n",
       "Length: 610, dtype: float64"
      ]
     },
     "execution_count": 44,
     "metadata": {},
     "output_type": "execute_result"
    }
   ],
   "source": [
    "template = 1\n",
    "subset = df[df['sparql_template_id'] == template]['corrected_question']\n",
    "subset.str.lower().str.split(expand=True).stack().value_counts() / len(subset)"
   ]
  },
  {
   "cell_type": "code",
   "execution_count": 45,
   "metadata": {},
   "outputs": [
    {
     "data": {
      "text/plain": [
       "the            1.713740\n",
       "of             1.251908\n",
       "is             0.416031\n",
       "what           0.385496\n",
       "which          0.366412\n",
       "?              0.347328\n",
       "who            0.179389\n",
       "where          0.175573\n",
       "in             0.164122\n",
       "are            0.148855\n",
       "by             0.133588\n",
       "list           0.118321\n",
       "awards         0.118321\n",
       "to             0.110687\n",
       "did            0.099237\n",
       "won            0.083969\n",
       "was            0.076336\n",
       "successor      0.072519\n",
       "city           0.072519\n",
       "does           0.061069\n",
       "religion       0.049618\n",
       "country        0.049618\n",
       "relatives      0.045802\n",
       "place          0.041985\n",
       "a              0.041985\n",
       "producer       0.041985\n",
       "located        0.041985\n",
       "artist         0.038168\n",
       "alma           0.034351\n",
       "mater          0.030534\n",
       "                 ...   \n",
       "study,         0.003817\n",
       "jon            0.003817\n",
       "given?         0.003817\n",
       "know           0.003817\n",
       "nebo           0.003817\n",
       "ann            0.003817\n",
       "wood?          0.003817\n",
       "cosmos?        0.003817\n",
       "coached        0.003817\n",
       "harry          0.003817\n",
       "letter         0.003817\n",
       "royal          0.003817\n",
       "target         0.003817\n",
       "raimer         0.003817\n",
       "f-series       0.003817\n",
       "ideologies     0.003817\n",
       "tunisia        0.003817\n",
       "serves         0.003817\n",
       "expo           0.003817\n",
       "nguendula      0.003817\n",
       "ullmann?       0.003817\n",
       "bell           0.003817\n",
       "mongolian      0.003817\n",
       "stone          0.003817\n",
       "von            0.003817\n",
       "jk?            0.003817\n",
       "associcated    0.003817\n",
       "dan            0.003817\n",
       "politician?    0.003817\n",
       "liv            0.003817\n",
       "Length: 977, dtype: float64"
      ]
     },
     "execution_count": 45,
     "metadata": {},
     "output_type": "execute_result"
    }
   ],
   "source": [
    "template = 3\n",
    "subset = df[df['sparql_template_id'] == template]['corrected_question']\n",
    "subset.str.lower().str.split(expand=True).stack().value_counts() / len(subset)"
   ]
  },
  {
   "cell_type": "code",
   "execution_count": 48,
   "metadata": {
    "collapsed": true
   },
   "outputs": [],
   "source": [
    "with open('data/lc-quad/train/input.pos', 'r') as myfile:\n",
    "    data = myfile.read().replace('\\n', ' ')"
   ]
  },
  {
   "cell_type": "code",
   "execution_count": 52,
   "metadata": {},
   "outputs": [],
   "source": [
    "freq = nltk.FreqDist(data.split())"
   ]
  },
  {
   "cell_type": "code",
   "execution_count": 55,
   "metadata": {},
   "outputs": [
    {
     "data": {
      "text/plain": [
       "FreqDist({\"''\": 9,\n",
       "          ',': 265,\n",
       "          '.': 3464,\n",
       "          ':': 35,\n",
       "          'CC': 668,\n",
       "          'CD': 308,\n",
       "          'DT': 4006,\n",
       "          'EX': 50,\n",
       "          'FW': 23,\n",
       "          'IN': 4573,\n",
       "          'JJ': 1713,\n",
       "          'JJR': 7,\n",
       "          'JJS': 39,\n",
       "          'LS': 1,\n",
       "          'MD': 54,\n",
       "          'NN': 6122,\n",
       "          'NNP': 7703,\n",
       "          'NNPS': 223,\n",
       "          'NNS': 2200,\n",
       "          'PDT': 64,\n",
       "          'POS': 206,\n",
       "          'PRP': 121,\n",
       "          'PRP$': 80,\n",
       "          'RB': 331,\n",
       "          'RBR': 1,\n",
       "          'RBS': 2,\n",
       "          'RP': 24,\n",
       "          'SYM': 1,\n",
       "          'TO': 264,\n",
       "          'UH': 4,\n",
       "          'VB': 982,\n",
       "          'VBD': 1027,\n",
       "          'VBG': 130,\n",
       "          'VBN': 1354,\n",
       "          'VBP': 1012,\n",
       "          'VBZ': 2174,\n",
       "          'WDT': 1341,\n",
       "          'WP': 1237,\n",
       "          'WP$': 438,\n",
       "          'WRB': 622,\n",
       "          '``': 6})"
      ]
     },
     "execution_count": 55,
     "metadata": {},
     "output_type": "execute_result"
    }
   ],
   "source": [
    "freq"
   ]
  },
  {
   "cell_type": "code",
   "execution_count": null,
   "metadata": {
    "collapsed": true
   },
   "outputs": [],
   "source": []
  }
 ],
 "metadata": {
  "kernelspec": {
   "display_name": "Python 3",
   "language": "python",
   "name": "python3"
  },
  "language_info": {
   "codemirror_mode": {
    "name": "ipython",
    "version": 3
   },
   "file_extension": ".py",
   "mimetype": "text/x-python",
   "name": "python",
   "nbconvert_exporter": "python",
   "pygments_lexer": "ipython3",
   "version": "3.6.2"
  }
 },
 "nbformat": 4,
 "nbformat_minor": 2
}
