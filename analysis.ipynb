{
 "cells": [
  {
   "cell_type": "code",
   "execution_count": 1,
   "metadata": {
    "collapsed": true
   },
   "outputs": [],
   "source": [
    "import pandas as pd\n",
    "import numpy as np"
   ]
  },
  {
   "cell_type": "code",
   "execution_count": 4,
   "metadata": {
    "collapsed": true
   },
   "outputs": [],
   "source": [
    "def analyze(filename):\n",
    "    df = pd.read_csv(filename, header=-1)\n",
    "    df.columns = ['pred', 'label'] # Distribution of templates\n",
    "    \n",
    "    for id in df['label'].value_counts().index:\n",
    "        subset = df[df['label'] == id]\n",
    "        correct = (subset['pred'] == subset['label']).sum()\n",
    "        accuracy = correct / len(subset)\n",
    "\n",
    "        false_positive_subset = df[df['pred'] == id]\n",
    "        false_positives = (false_positive_subset['pred'] != false_positive_subset['label']).sum()\n",
    "        false_positive_rate = false_positives / max(len(false_positive_subset), 1)\n",
    "\n",
    "        print(\"=\" * 50)\n",
    "        print(\"Template #{}: count={}, correct={}, false_positives={}, accuracy={}, false_positive_rate={}\"\n",
    "              .format(id, len(subset), correct, false_positives, accuracy, false_positive_rate))\n",
    "        print(\"=\" * 50)"
   ]
  },
  {
   "cell_type": "code",
   "execution_count": 15,
   "metadata": {},
   "outputs": [
    {
     "name": "stdout",
     "output_type": "stream",
     "text": [
      "==================================================\n",
      "Template #2: count=597, correct=584, false_positives=58, accuracy=0.9782244556113903, false_positive_rate=0.09034267912772585\n",
      "==================================================\n",
      "==================================================\n",
      "Template #305: count=462, correct=427, false_positives=33, accuracy=0.9242424242424242, false_positive_rate=0.07173913043478261\n",
      "==================================================\n",
      "==================================================\n",
      "Template #16: count=409, correct=401, false_positives=10, accuracy=0.980440097799511, false_positive_rate=0.024330900243309004\n",
      "==================================================\n",
      "==================================================\n",
      "Template #308: count=267, correct=264, false_positives=3, accuracy=0.9887640449438202, false_positive_rate=0.011235955056179775\n",
      "==================================================\n",
      "==================================================\n",
      "Template #301: count=249, correct=221, false_positives=29, accuracy=0.8875502008032129, false_positive_rate=0.116\n",
      "==================================================\n",
      "==================================================\n",
      "Template #3: count=208, correct=197, false_positives=46, accuracy=0.9471153846153846, false_positive_rate=0.18930041152263374\n",
      "==================================================\n",
      "==================================================\n",
      "Template #5: count=158, correct=114, false_positives=14, accuracy=0.7215189873417721, false_positive_rate=0.109375\n",
      "==================================================\n",
      "==================================================\n",
      "Template #15: count=151, correct=139, false_positives=4, accuracy=0.9205298013245033, false_positive_rate=0.027972027972027972\n",
      "==================================================\n",
      "==================================================\n",
      "Template #152: count=145, correct=101, false_positives=4, accuracy=0.696551724137931, false_positive_rate=0.0380952380952381\n",
      "==================================================\n",
      "==================================================\n",
      "Template #151: count=140, correct=136, false_positives=44, accuracy=0.9714285714285714, false_positive_rate=0.24444444444444444\n",
      "==================================================\n",
      "==================================================\n",
      "Template #306: count=139, correct=130, false_positives=20, accuracy=0.935251798561151, false_positive_rate=0.13333333333333333\n",
      "==================================================\n",
      "==================================================\n",
      "Template #105: count=138, correct=109, false_positives=6, accuracy=0.7898550724637681, false_positive_rate=0.05217391304347826\n",
      "==================================================\n",
      "==================================================\n",
      "Template #1: count=129, correct=90, false_positives=6, accuracy=0.6976744186046512, false_positive_rate=0.0625\n",
      "==================================================\n",
      "==================================================\n",
      "Template #303: count=100, correct=83, false_positives=9, accuracy=0.83, false_positive_rate=0.09782608695652174\n",
      "==================================================\n",
      "==================================================\n",
      "Template #405: count=77, correct=72, false_positives=25, accuracy=0.935064935064935, false_positive_rate=0.25773195876288657\n",
      "==================================================\n",
      "==================================================\n",
      "Template #6: count=77, correct=69, false_positives=4, accuracy=0.8961038961038961, false_positive_rate=0.0547945205479452\n",
      "==================================================\n",
      "==================================================\n",
      "Template #311: count=70, correct=63, false_positives=5, accuracy=0.9, false_positive_rate=0.07352941176470588\n",
      "==================================================\n",
      "==================================================\n",
      "Template #401: count=65, correct=60, false_positives=21, accuracy=0.9230769230769231, false_positive_rate=0.25925925925925924\n",
      "==================================================\n",
      "==================================================\n",
      "Template #101: count=62, correct=41, false_positives=3, accuracy=0.6612903225806451, false_positive_rate=0.06818181818181818\n",
      "==================================================\n",
      "==================================================\n",
      "Template #111: count=62, correct=61, false_positives=8, accuracy=0.9838709677419355, false_positive_rate=0.11594202898550725\n",
      "==================================================\n",
      "==================================================\n",
      "Template #406: count=53, correct=46, false_positives=0, accuracy=0.8679245283018868, false_positive_rate=0.0\n",
      "==================================================\n",
      "==================================================\n",
      "Template #307: count=53, correct=52, false_positives=12, accuracy=0.9811320754716981, false_positive_rate=0.1875\n",
      "==================================================\n",
      "==================================================\n",
      "Template #7: count=50, correct=42, false_positives=0, accuracy=0.84, false_positive_rate=0.0\n",
      "==================================================\n",
      "==================================================\n",
      "Template #8: count=31, correct=27, false_positives=3, accuracy=0.8709677419354839, false_positive_rate=0.1\n",
      "==================================================\n",
      "==================================================\n",
      "Template #106: count=18, correct=16, false_positives=2, accuracy=0.8888888888888888, false_positive_rate=0.1111111111111111\n",
      "==================================================\n",
      "==================================================\n",
      "Template #102: count=16, correct=16, false_positives=4, accuracy=1.0, false_positive_rate=0.2\n",
      "==================================================\n",
      "==================================================\n",
      "Template #11: count=13, correct=10, false_positives=0, accuracy=0.7692307692307693, false_positive_rate=0.0\n",
      "==================================================\n",
      "==================================================\n",
      "Template #403: count=11, correct=10, false_positives=0, accuracy=0.9090909090909091, false_positive_rate=0.0\n",
      "==================================================\n",
      "==================================================\n",
      "Template #108: count=11, correct=11, false_positives=0, accuracy=1.0, false_positive_rate=0.0\n",
      "==================================================\n",
      "==================================================\n",
      "Template #103: count=10, correct=7, false_positives=0, accuracy=0.7, false_positive_rate=0.0\n",
      "==================================================\n",
      "==================================================\n",
      "Template #315: count=8, correct=8, false_positives=0, accuracy=1.0, false_positive_rate=0.0\n",
      "==================================================\n",
      "==================================================\n",
      "Template #402: count=7, correct=6, false_positives=2, accuracy=0.8571428571428571, false_positive_rate=0.25\n",
      "==================================================\n",
      "==================================================\n",
      "Template #107: count=5, correct=4, false_positives=0, accuracy=0.8, false_positive_rate=0.0\n",
      "==================================================\n",
      "==================================================\n",
      "Template #316: count=5, correct=5, false_positives=0, accuracy=1.0, false_positive_rate=0.0\n",
      "==================================================\n",
      "==================================================\n",
      "Template #605: count=2, correct=2, false_positives=0, accuracy=1.0, false_positive_rate=0.0\n",
      "==================================================\n",
      "==================================================\n",
      "Template #906: count=1, correct=0, false_positives=nan, accuracy=0.0, false_positive_rate=nan\n",
      "==================================================\n",
      "==================================================\n",
      "Template #9: count=1, correct=1, false_positives=0, accuracy=1.0, false_positive_rate=0.0\n",
      "==================================================\n"
     ]
    }
   ],
   "source": [
    "analyze(\"analysis/pos * rels/input_dim=300,mem_dim=150,epochs=15,current_epoch=15,train_acc=0.90625.csv\")"
   ]
  },
  {
   "cell_type": "code",
   "execution_count": 16,
   "metadata": {
    "collapsed": true
   },
   "outputs": [],
   "source": [
    "df = pd.read_csv(\"analysis/pos * rels/input_dim=300,mem_dim=150,epochs=15,current_epoch=15,train_acc=0.90625.csv\", header=-1)"
   ]
  },
  {
   "cell_type": "code",
   "execution_count": 17,
   "metadata": {
    "collapsed": true
   },
   "outputs": [],
   "source": [
    "df.columns = ['pred', 'label'] # Distribution of templates"
   ]
  },
  {
   "cell_type": "code",
   "execution_count": 19,
   "metadata": {},
   "outputs": [
    {
     "data": {
      "text/plain": [
       "2      0.14925\n",
       "305    0.11550\n",
       "16     0.10225\n",
       "308    0.06675\n",
       "301    0.06225\n",
       "3      0.05200\n",
       "5      0.03950\n",
       "15     0.03775\n",
       "152    0.03625\n",
       "151    0.03500\n",
       "306    0.03475\n",
       "105    0.03450\n",
       "1      0.03225\n",
       "303    0.02500\n",
       "405    0.01925\n",
       "6      0.01925\n",
       "311    0.01750\n",
       "401    0.01625\n",
       "101    0.01550\n",
       "111    0.01550\n",
       "406    0.01325\n",
       "307    0.01325\n",
       "7      0.01250\n",
       "8      0.00775\n",
       "106    0.00450\n",
       "102    0.00400\n",
       "11     0.00325\n",
       "403    0.00275\n",
       "108    0.00275\n",
       "103    0.00250\n",
       "315    0.00200\n",
       "402    0.00175\n",
       "107    0.00125\n",
       "316    0.00125\n",
       "605    0.00050\n",
       "906    0.00025\n",
       "9      0.00025\n",
       "Name: label, dtype: float64"
      ]
     },
     "execution_count": 19,
     "metadata": {},
     "output_type": "execute_result"
    }
   ],
   "source": [
    "df['label'].value_counts(normalize=True)"
   ]
  },
  {
   "cell_type": "code",
   "execution_count": 3,
   "metadata": {
    "collapsed": true
   },
   "outputs": [],
   "source": [
    "df_train = pd.read_json(\"data/lc-quad/train-data.json\")\n",
    "df_test = pd.read_json(\"data/lc-quad/test-data.json\")\n",
    "df = pd.concat([df_train, df_test], ignore_index = True)"
   ]
  },
  {
   "cell_type": "code",
   "execution_count": 4,
   "metadata": {
    "collapsed": true
   },
   "outputs": [],
   "source": [
    "sum = 0\n",
    "index = 0\n",
    "columns = df['sparql_template_id'].value_counts(normalize=True)\n",
    "for percent in columns:\n",
    "    sum += percent\n",
    "    index += 1\n",
    "    if sum >= 0.8:\n",
    "        break\n",
    "        \n",
    "df2 = df[df['sparql_template_id'].isin(columns.index[:3].tolist())]"
   ]
  },
  {
   "cell_type": "code",
   "execution_count": 5,
   "metadata": {},
   "outputs": [
    {
     "data": {
      "text/plain": [
       "2      0.407629\n",
       "305    0.307357\n",
       "16     0.285014\n",
       "Name: sparql_template_id, dtype: float64"
      ]
     },
     "execution_count": 5,
     "metadata": {},
     "output_type": "execute_result"
    }
   ],
   "source": [
    "df2['sparql_template_id'].value_counts(normalize=True)"
   ]
  },
  {
   "cell_type": "code",
   "execution_count": null,
   "metadata": {
    "collapsed": true
   },
   "outputs": [],
   "source": []
  }
 ],
 "metadata": {
  "kernelspec": {
   "display_name": "Python 3",
   "language": "python",
   "name": "python3"
  },
  "language_info": {
   "codemirror_mode": {
    "name": "ipython",
    "version": 3
   },
   "file_extension": ".py",
   "mimetype": "text/x-python",
   "name": "python",
   "nbconvert_exporter": "python",
   "pygments_lexer": "ipython3",
   "version": "3.6.2"
  }
 },
 "nbformat": 4,
 "nbformat_minor": 2
}
